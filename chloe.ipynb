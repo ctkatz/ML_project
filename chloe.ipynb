{
 "cells": [
  {
   "cell_type": "code",
   "execution_count": 4,
   "id": "18965116",
   "metadata": {},
   "outputs": [],
   "source": [
    "import statsapi\n",
    "import pandas as pd\n"
   ]
  },
  {
   "cell_type": "markdown",
   "id": "dc2c9a2d",
   "metadata": {},
   "source": [
    "## Preprocessing"
   ]
  },
  {
   "cell_type": "code",
   "execution_count": 5,
   "id": "5be14a30",
   "metadata": {},
   "outputs": [],
   "source": [
    "players = pd.read_csv(\"mlb_players_2021.csv\")\n",
    "pitches = pd.read_csv(\"regseason.csv\")"
   ]
  },
  {
   "cell_type": "code",
   "execution_count": 6,
   "id": "461af834",
   "metadata": {},
   "outputs": [
    {
     "data": {
      "text/html": [
       "<div>\n",
       "<style scoped>\n",
       "    .dataframe tbody tr th:only-of-type {\n",
       "        vertical-align: middle;\n",
       "    }\n",
       "\n",
       "    .dataframe tbody tr th {\n",
       "        vertical-align: top;\n",
       "    }\n",
       "\n",
       "    .dataframe thead th {\n",
       "        text-align: right;\n",
       "    }\n",
       "</style>\n",
       "<table border=\"1\" class=\"dataframe\">\n",
       "  <thead>\n",
       "    <tr style=\"text-align: right;\">\n",
       "      <th></th>\n",
       "      <th>batter</th>\n",
       "      <th>batter_fullName</th>\n",
       "      <th>birthDate</th>\n",
       "      <th>batter_birthCountry</th>\n",
       "      <th>height</th>\n",
       "      <th>weight</th>\n",
       "      <th>primaryPosition</th>\n",
       "      <th>batSide</th>\n",
       "      <th>pitchHand</th>\n",
       "      <th>debutDate</th>\n",
       "      <th>active</th>\n",
       "    </tr>\n",
       "  </thead>\n",
       "  <tbody>\n",
       "    <tr>\n",
       "      <th>0</th>\n",
       "      <td>642758</td>\n",
       "      <td>Domingo Acevedo</td>\n",
       "      <td>1994-03-06</td>\n",
       "      <td>Dominican Republic</td>\n",
       "      <td>6' 7\"</td>\n",
       "      <td>240</td>\n",
       "      <td>P</td>\n",
       "      <td>R</td>\n",
       "      <td>R</td>\n",
       "      <td>2021-06-21</td>\n",
       "      <td>True</td>\n",
       "    </tr>\n",
       "    <tr>\n",
       "      <th>1</th>\n",
       "      <td>664119</td>\n",
       "      <td>Austin Allen</td>\n",
       "      <td>1994-01-16</td>\n",
       "      <td>USA</td>\n",
       "      <td>6' 1\"</td>\n",
       "      <td>219</td>\n",
       "      <td>C</td>\n",
       "      <td>L</td>\n",
       "      <td>R</td>\n",
       "      <td>2019-05-11</td>\n",
       "      <td>False</td>\n",
       "    </tr>\n",
       "    <tr>\n",
       "      <th>2</th>\n",
       "      <td>462101</td>\n",
       "      <td>Elvis Andrus</td>\n",
       "      <td>1988-08-26</td>\n",
       "      <td>Venezuela</td>\n",
       "      <td>6' 0\"</td>\n",
       "      <td>210</td>\n",
       "      <td>SS</td>\n",
       "      <td>R</td>\n",
       "      <td>R</td>\n",
       "      <td>2009-04-06</td>\n",
       "      <td>False</td>\n",
       "    </tr>\n",
       "    <tr>\n",
       "      <th>3</th>\n",
       "      <td>642456</td>\n",
       "      <td>Luis Barrera</td>\n",
       "      <td>1995-11-15</td>\n",
       "      <td>Dominican Republic</td>\n",
       "      <td>6' 0\"</td>\n",
       "      <td>195</td>\n",
       "      <td>OF</td>\n",
       "      <td>L</td>\n",
       "      <td>L</td>\n",
       "      <td>2021-05-19</td>\n",
       "      <td>True</td>\n",
       "    </tr>\n",
       "    <tr>\n",
       "      <th>4</th>\n",
       "      <td>605135</td>\n",
       "      <td>Chris Bassitt</td>\n",
       "      <td>1989-02-22</td>\n",
       "      <td>USA</td>\n",
       "      <td>6' 5\"</td>\n",
       "      <td>217</td>\n",
       "      <td>P</td>\n",
       "      <td>R</td>\n",
       "      <td>R</td>\n",
       "      <td>2014-08-30</td>\n",
       "      <td>True</td>\n",
       "    </tr>\n",
       "  </tbody>\n",
       "</table>\n",
       "</div>"
      ],
      "text/plain": [
       "   batter  batter_fullName   birthDate batter_birthCountry height  weight  \\\n",
       "0  642758  Domingo Acevedo  1994-03-06  Dominican Republic  6' 7\"     240   \n",
       "1  664119     Austin Allen  1994-01-16                 USA  6' 1\"     219   \n",
       "2  462101     Elvis Andrus  1988-08-26           Venezuela  6' 0\"     210   \n",
       "3  642456     Luis Barrera  1995-11-15  Dominican Republic  6' 0\"     195   \n",
       "4  605135    Chris Bassitt  1989-02-22                 USA  6' 5\"     217   \n",
       "\n",
       "  primaryPosition batSide pitchHand   debutDate  active  \n",
       "0               P       R         R  2021-06-21    True  \n",
       "1               C       L         R  2019-05-11   False  \n",
       "2              SS       R         R  2009-04-06   False  \n",
       "3              OF       L         L  2021-05-19    True  \n",
       "4               P       R         R  2014-08-30    True  "
      ]
     },
     "execution_count": 6,
     "metadata": {},
     "output_type": "execute_result"
    }
   ],
   "source": [
    "players.rename(columns={\"id\" : \"batter\",\"fullName\" : \"batter_fullName\" , \"birthCountry\" : \"batter_birthCountry\"}, inplace=True)\n",
    "players.head()"
   ]
  },
  {
   "cell_type": "code",
   "execution_count": 7,
   "id": "fff574fc",
   "metadata": {},
   "outputs": [
    {
     "data": {
      "text/html": [
       "<div>\n",
       "<style scoped>\n",
       "    .dataframe tbody tr th:only-of-type {\n",
       "        vertical-align: middle;\n",
       "    }\n",
       "\n",
       "    .dataframe tbody tr th {\n",
       "        vertical-align: top;\n",
       "    }\n",
       "\n",
       "    .dataframe thead th {\n",
       "        text-align: right;\n",
       "    }\n",
       "</style>\n",
       "<table border=\"1\" class=\"dataframe\">\n",
       "  <thead>\n",
       "    <tr style=\"text-align: right;\">\n",
       "      <th></th>\n",
       "      <th>Unnamed: 0</th>\n",
       "      <th>pitch_type</th>\n",
       "      <th>game_date</th>\n",
       "      <th>release_speed</th>\n",
       "      <th>release_pos_x</th>\n",
       "      <th>release_pos_z</th>\n",
       "      <th>player_name</th>\n",
       "      <th>batter</th>\n",
       "      <th>pitcher</th>\n",
       "      <th>events</th>\n",
       "      <th>...</th>\n",
       "      <th>of_fielding_alignment</th>\n",
       "      <th>spin_axis</th>\n",
       "      <th>delta_home_win_exp</th>\n",
       "      <th>delta_run_exp</th>\n",
       "      <th>count</th>\n",
       "      <th>PBhand</th>\n",
       "      <th>pitch_cat</th>\n",
       "      <th>batter_fullName</th>\n",
       "      <th>batSide</th>\n",
       "      <th>batter_birthCountry</th>\n",
       "    </tr>\n",
       "  </thead>\n",
       "  <tbody>\n",
       "    <tr>\n",
       "      <th>0</th>\n",
       "      <td>1</td>\n",
       "      <td>SL</td>\n",
       "      <td>2021-10-03</td>\n",
       "      <td>85.1</td>\n",
       "      <td>2.39</td>\n",
       "      <td>6.05</td>\n",
       "      <td>Detmers, Reid</td>\n",
       "      <td>641487</td>\n",
       "      <td>672282</td>\n",
       "      <td>single</td>\n",
       "      <td>...</td>\n",
       "      <td>Standard</td>\n",
       "      <td>293.0</td>\n",
       "      <td>0.079</td>\n",
       "      <td>0.780</td>\n",
       "      <td>0_1</td>\n",
       "      <td>bLpL</td>\n",
       "      <td>breaking</td>\n",
       "      <td>J.P. Crawford</td>\n",
       "      <td>L</td>\n",
       "      <td>USA</td>\n",
       "    </tr>\n",
       "    <tr>\n",
       "      <th>1</th>\n",
       "      <td>2</td>\n",
       "      <td>FF</td>\n",
       "      <td>2021-10-03</td>\n",
       "      <td>93.8</td>\n",
       "      <td>2.31</td>\n",
       "      <td>6.03</td>\n",
       "      <td>Detmers, Reid</td>\n",
       "      <td>641487</td>\n",
       "      <td>672282</td>\n",
       "      <td>NaN</td>\n",
       "      <td>...</td>\n",
       "      <td>Standard</td>\n",
       "      <td>150.0</td>\n",
       "      <td>0.000</td>\n",
       "      <td>-0.045</td>\n",
       "      <td>0_0</td>\n",
       "      <td>bLpL</td>\n",
       "      <td>fastball</td>\n",
       "      <td>J.P. Crawford</td>\n",
       "      <td>L</td>\n",
       "      <td>USA</td>\n",
       "    </tr>\n",
       "    <tr>\n",
       "      <th>2</th>\n",
       "      <td>3</td>\n",
       "      <td>CU</td>\n",
       "      <td>2021-10-03</td>\n",
       "      <td>73.9</td>\n",
       "      <td>2.12</td>\n",
       "      <td>6.25</td>\n",
       "      <td>Detmers, Reid</td>\n",
       "      <td>664238</td>\n",
       "      <td>672282</td>\n",
       "      <td>strikeout</td>\n",
       "      <td>...</td>\n",
       "      <td>Standard</td>\n",
       "      <td>329.0</td>\n",
       "      <td>-0.032</td>\n",
       "      <td>-0.315</td>\n",
       "      <td>2_2</td>\n",
       "      <td>bRpL</td>\n",
       "      <td>breaking</td>\n",
       "      <td>Dylan Moore</td>\n",
       "      <td>R</td>\n",
       "      <td>USA</td>\n",
       "    </tr>\n",
       "    <tr>\n",
       "      <th>3</th>\n",
       "      <td>4</td>\n",
       "      <td>FF</td>\n",
       "      <td>2021-10-03</td>\n",
       "      <td>94.6</td>\n",
       "      <td>2.43</td>\n",
       "      <td>5.96</td>\n",
       "      <td>Detmers, Reid</td>\n",
       "      <td>664238</td>\n",
       "      <td>672282</td>\n",
       "      <td>NaN</td>\n",
       "      <td>...</td>\n",
       "      <td>Standard</td>\n",
       "      <td>146.0</td>\n",
       "      <td>0.000</td>\n",
       "      <td>0.047</td>\n",
       "      <td>1_2</td>\n",
       "      <td>bRpL</td>\n",
       "      <td>fastball</td>\n",
       "      <td>Dylan Moore</td>\n",
       "      <td>R</td>\n",
       "      <td>USA</td>\n",
       "    </tr>\n",
       "    <tr>\n",
       "      <th>4</th>\n",
       "      <td>5</td>\n",
       "      <td>FF</td>\n",
       "      <td>2021-10-03</td>\n",
       "      <td>94.3</td>\n",
       "      <td>2.08</td>\n",
       "      <td>6.15</td>\n",
       "      <td>Detmers, Reid</td>\n",
       "      <td>664238</td>\n",
       "      <td>672282</td>\n",
       "      <td>NaN</td>\n",
       "      <td>...</td>\n",
       "      <td>Standard</td>\n",
       "      <td>151.0</td>\n",
       "      <td>0.000</td>\n",
       "      <td>0.000</td>\n",
       "      <td>1_2</td>\n",
       "      <td>bRpL</td>\n",
       "      <td>fastball</td>\n",
       "      <td>Dylan Moore</td>\n",
       "      <td>R</td>\n",
       "      <td>USA</td>\n",
       "    </tr>\n",
       "  </tbody>\n",
       "</table>\n",
       "<p>5 rows × 99 columns</p>\n",
       "</div>"
      ],
      "text/plain": [
       "   Unnamed: 0 pitch_type   game_date  release_speed  release_pos_x  \\\n",
       "0           1         SL  2021-10-03           85.1           2.39   \n",
       "1           2         FF  2021-10-03           93.8           2.31   \n",
       "2           3         CU  2021-10-03           73.9           2.12   \n",
       "3           4         FF  2021-10-03           94.6           2.43   \n",
       "4           5         FF  2021-10-03           94.3           2.08   \n",
       "\n",
       "   release_pos_z    player_name  batter  pitcher     events  ...  \\\n",
       "0           6.05  Detmers, Reid  641487   672282     single  ...   \n",
       "1           6.03  Detmers, Reid  641487   672282        NaN  ...   \n",
       "2           6.25  Detmers, Reid  664238   672282  strikeout  ...   \n",
       "3           5.96  Detmers, Reid  664238   672282        NaN  ...   \n",
       "4           6.15  Detmers, Reid  664238   672282        NaN  ...   \n",
       "\n",
       "  of_fielding_alignment  spin_axis  delta_home_win_exp  delta_run_exp  count  \\\n",
       "0              Standard      293.0               0.079          0.780    0_1   \n",
       "1              Standard      150.0               0.000         -0.045    0_0   \n",
       "2              Standard      329.0              -0.032         -0.315    2_2   \n",
       "3              Standard      146.0               0.000          0.047    1_2   \n",
       "4              Standard      151.0               0.000          0.000    1_2   \n",
       "\n",
       "   PBhand pitch_cat batter_fullName batSide batter_birthCountry  \n",
       "0    bLpL  breaking   J.P. Crawford       L                 USA  \n",
       "1    bLpL  fastball   J.P. Crawford       L                 USA  \n",
       "2    bRpL  breaking     Dylan Moore       R                 USA  \n",
       "3    bRpL  fastball     Dylan Moore       R                 USA  \n",
       "4    bRpL  fastball     Dylan Moore       R                 USA  \n",
       "\n",
       "[5 rows x 99 columns]"
      ]
     },
     "execution_count": 7,
     "metadata": {},
     "output_type": "execute_result"
    }
   ],
   "source": [
    "# Merge pitches df with info about the batter\n",
    "full_df = pd.merge(pitches, players[[\"batter\",\"batter_fullName\",\"batSide\", \"batter_birthCountry\"]], on=\"batter\")\n",
    "full_df.head()"
   ]
  },
  {
   "cell_type": "code",
   "execution_count": 8,
   "id": "411cf60a",
   "metadata": {},
   "outputs": [
    {
     "data": {
      "text/html": [
       "<div>\n",
       "<style scoped>\n",
       "    .dataframe tbody tr th:only-of-type {\n",
       "        vertical-align: middle;\n",
       "    }\n",
       "\n",
       "    .dataframe tbody tr th {\n",
       "        vertical-align: top;\n",
       "    }\n",
       "\n",
       "    .dataframe thead th {\n",
       "        text-align: right;\n",
       "    }\n",
       "</style>\n",
       "<table border=\"1\" class=\"dataframe\">\n",
       "  <thead>\n",
       "    <tr style=\"text-align: right;\">\n",
       "      <th></th>\n",
       "      <th>Unnamed: 0</th>\n",
       "      <th>pitch_type</th>\n",
       "      <th>game_date</th>\n",
       "      <th>release_speed</th>\n",
       "      <th>release_pos_x</th>\n",
       "      <th>release_pos_z</th>\n",
       "      <th>player_name</th>\n",
       "      <th>batter</th>\n",
       "      <th>pitcher</th>\n",
       "      <th>events</th>\n",
       "      <th>...</th>\n",
       "      <th>of_fielding_alignment</th>\n",
       "      <th>spin_axis</th>\n",
       "      <th>delta_home_win_exp</th>\n",
       "      <th>delta_run_exp</th>\n",
       "      <th>count</th>\n",
       "      <th>PBhand</th>\n",
       "      <th>pitch_cat</th>\n",
       "      <th>batter_fullName</th>\n",
       "      <th>batSide</th>\n",
       "      <th>batter_birthCountry</th>\n",
       "    </tr>\n",
       "  </thead>\n",
       "  <tbody>\n",
       "    <tr>\n",
       "      <th>2</th>\n",
       "      <td>3</td>\n",
       "      <td>CU</td>\n",
       "      <td>2021-10-03</td>\n",
       "      <td>73.9</td>\n",
       "      <td>2.12</td>\n",
       "      <td>6.25</td>\n",
       "      <td>Detmers, Reid</td>\n",
       "      <td>664238</td>\n",
       "      <td>672282</td>\n",
       "      <td>strikeout</td>\n",
       "      <td>...</td>\n",
       "      <td>Standard</td>\n",
       "      <td>329.0</td>\n",
       "      <td>-0.032</td>\n",
       "      <td>-0.315</td>\n",
       "      <td>2_2</td>\n",
       "      <td>bRpL</td>\n",
       "      <td>breaking</td>\n",
       "      <td>Dylan Moore</td>\n",
       "      <td>R</td>\n",
       "      <td>USA</td>\n",
       "    </tr>\n",
       "    <tr>\n",
       "      <th>3</th>\n",
       "      <td>4</td>\n",
       "      <td>FF</td>\n",
       "      <td>2021-10-03</td>\n",
       "      <td>94.6</td>\n",
       "      <td>2.43</td>\n",
       "      <td>5.96</td>\n",
       "      <td>Detmers, Reid</td>\n",
       "      <td>664238</td>\n",
       "      <td>672282</td>\n",
       "      <td>NaN</td>\n",
       "      <td>...</td>\n",
       "      <td>Standard</td>\n",
       "      <td>146.0</td>\n",
       "      <td>0.000</td>\n",
       "      <td>0.047</td>\n",
       "      <td>1_2</td>\n",
       "      <td>bRpL</td>\n",
       "      <td>fastball</td>\n",
       "      <td>Dylan Moore</td>\n",
       "      <td>R</td>\n",
       "      <td>USA</td>\n",
       "    </tr>\n",
       "    <tr>\n",
       "      <th>6</th>\n",
       "      <td>7</td>\n",
       "      <td>FF</td>\n",
       "      <td>2021-10-03</td>\n",
       "      <td>94.2</td>\n",
       "      <td>2.33</td>\n",
       "      <td>5.94</td>\n",
       "      <td>Detmers, Reid</td>\n",
       "      <td>664238</td>\n",
       "      <td>672282</td>\n",
       "      <td>NaN</td>\n",
       "      <td>...</td>\n",
       "      <td>Standard</td>\n",
       "      <td>145.0</td>\n",
       "      <td>0.000</td>\n",
       "      <td>0.032</td>\n",
       "      <td>0_1</td>\n",
       "      <td>bRpL</td>\n",
       "      <td>fastball</td>\n",
       "      <td>Dylan Moore</td>\n",
       "      <td>R</td>\n",
       "      <td>USA</td>\n",
       "    </tr>\n",
       "    <tr>\n",
       "      <th>9</th>\n",
       "      <td>10</td>\n",
       "      <td>CU</td>\n",
       "      <td>2021-10-03</td>\n",
       "      <td>73.9</td>\n",
       "      <td>2.22</td>\n",
       "      <td>6.23</td>\n",
       "      <td>Detmers, Reid</td>\n",
       "      <td>663728</td>\n",
       "      <td>672282</td>\n",
       "      <td>NaN</td>\n",
       "      <td>...</td>\n",
       "      <td>Standard</td>\n",
       "      <td>322.0</td>\n",
       "      <td>0.000</td>\n",
       "      <td>0.174</td>\n",
       "      <td>2_2</td>\n",
       "      <td>bRpL</td>\n",
       "      <td>breaking</td>\n",
       "      <td>Cal Raleigh</td>\n",
       "      <td>S</td>\n",
       "      <td>USA</td>\n",
       "    </tr>\n",
       "    <tr>\n",
       "      <th>12</th>\n",
       "      <td>13</td>\n",
       "      <td>FF</td>\n",
       "      <td>2021-10-03</td>\n",
       "      <td>94.4</td>\n",
       "      <td>2.48</td>\n",
       "      <td>5.97</td>\n",
       "      <td>Detmers, Reid</td>\n",
       "      <td>663728</td>\n",
       "      <td>672282</td>\n",
       "      <td>NaN</td>\n",
       "      <td>...</td>\n",
       "      <td>Standard</td>\n",
       "      <td>148.0</td>\n",
       "      <td>0.000</td>\n",
       "      <td>0.062</td>\n",
       "      <td>1_2</td>\n",
       "      <td>bRpL</td>\n",
       "      <td>fastball</td>\n",
       "      <td>Cal Raleigh</td>\n",
       "      <td>S</td>\n",
       "      <td>USA</td>\n",
       "    </tr>\n",
       "  </tbody>\n",
       "</table>\n",
       "<p>5 rows × 99 columns</p>\n",
       "</div>"
      ],
      "text/plain": [
       "    Unnamed: 0 pitch_type   game_date  release_speed  release_pos_x  \\\n",
       "2            3         CU  2021-10-03           73.9           2.12   \n",
       "3            4         FF  2021-10-03           94.6           2.43   \n",
       "6            7         FF  2021-10-03           94.2           2.33   \n",
       "9           10         CU  2021-10-03           73.9           2.22   \n",
       "12          13         FF  2021-10-03           94.4           2.48   \n",
       "\n",
       "    release_pos_z    player_name  batter  pitcher     events  ...  \\\n",
       "2            6.25  Detmers, Reid  664238   672282  strikeout  ...   \n",
       "3            5.96  Detmers, Reid  664238   672282        NaN  ...   \n",
       "6            5.94  Detmers, Reid  664238   672282        NaN  ...   \n",
       "9            6.23  Detmers, Reid  663728   672282        NaN  ...   \n",
       "12           5.97  Detmers, Reid  663728   672282        NaN  ...   \n",
       "\n",
       "   of_fielding_alignment  spin_axis  delta_home_win_exp  delta_run_exp  count  \\\n",
       "2               Standard      329.0              -0.032         -0.315    2_2   \n",
       "3               Standard      146.0               0.000          0.047    1_2   \n",
       "6               Standard      145.0               0.000          0.032    0_1   \n",
       "9               Standard      322.0               0.000          0.174    2_2   \n",
       "12              Standard      148.0               0.000          0.062    1_2   \n",
       "\n",
       "    PBhand pitch_cat batter_fullName batSide batter_birthCountry  \n",
       "2     bRpL  breaking     Dylan Moore       R                 USA  \n",
       "3     bRpL  fastball     Dylan Moore       R                 USA  \n",
       "6     bRpL  fastball     Dylan Moore       R                 USA  \n",
       "9     bRpL  breaking     Cal Raleigh       S                 USA  \n",
       "12    bRpL  fastball     Cal Raleigh       S                 USA  \n",
       "\n",
       "[5 rows x 99 columns]"
      ]
     },
     "execution_count": 8,
     "metadata": {},
     "output_type": "execute_result"
    }
   ],
   "source": [
    "# Remove the pitches that were fouled, in play, or swung at\n",
    "not_hit = [\"called_strike\", \"ball\"]\n",
    "pitches_not_hit = full_df[full_df['description'].isin(not_hit)].copy()\n",
    "len(pitches_not_hit)\n",
    "pitches_not_hit.head()"
   ]
  },
  {
   "cell_type": "code",
   "execution_count": 29,
   "id": "3a570f5f",
   "metadata": {},
   "outputs": [],
   "source": [
    "pitches_not_hit[\"strike_zone\"] = pitches_not_hit[\"zone\"] <= 9 # Determine if the pitch was actually in the zone\n",
    "\n",
    "pitches_not_hit[\"called_correctly\"] = (\n",
    "    ((pitches_not_hit[\"zone\"] <= 9) & (pitches_not_hit[\"type\"] == \"S\")) | # Pitch is in the zone and is called a strike  \n",
    "    ((pitches_not_hit[\"zone\"] > 9) & (pitches_not_hit[\"type\"] == \"B\"))    # Pitch is not in the zone and is called a ball\n",
    ") \n",
    "pitches_not_hit[\"called_correctly\"] = pitches_not_hit[\"called_correctly\"].astype(int) # This will be are target variable -- whether the pitch was called \"correctly\""
   ]
  },
  {
   "cell_type": "code",
   "execution_count": 52,
   "id": "01108d9b",
   "metadata": {},
   "outputs": [
    {
     "data": {
      "text/plain": [
       "array([ 0., nan])"
      ]
     },
     "execution_count": 52,
     "metadata": {},
     "output_type": "execute_result"
    }
   ],
   "source": [
    "pitches_not_hit[\"babip_value\"].unique()"
   ]
  },
  {
   "cell_type": "code",
   "execution_count": 60,
   "id": "cee267f8",
   "metadata": {},
   "outputs": [
    {
     "data": {
      "text/plain": [
       "array([ 0., nan])"
      ]
     },
     "execution_count": 60,
     "metadata": {},
     "output_type": "execute_result"
    }
   ],
   "source": [
    "pitches_not_hit[\"iso_value\"].unique()"
   ]
  },
  {
   "cell_type": "markdown",
   "id": "fcf7a10a",
   "metadata": {},
   "source": [
    "## New addition"
   ]
  },
  {
   "cell_type": "code",
   "execution_count": 56,
   "id": "341fb33e",
   "metadata": {},
   "outputs": [],
   "source": [
    "from sklearn.model_selection import train_test_split\n",
    "from sklearn.utils import resample\n",
    "\n",
    "# Creating a new variable to see if a game altering event (out or man on base) came as a result of the pitch\n",
    "pitches_not_hit['has_event'] = pitches_not_hit['events'].notna().astype(int) \n",
    "y = pitches_not_hit[\"called_correctly\"]\n",
    "X= pitches_not_hit.drop([\"called_correctly\"], axis= 1)\n",
    "\n",
    "X_train, X_test, y_train, y_test = train_test_split(X, y)\n",
    "X_train.head()\n",
    "\n",
    "# Combining into a new df\n",
    "train_df = X_train.copy()\n",
    "train_df['target'] = y_train\n",
    "\n",
    "# Split into correct/incorrect\n",
    "majority = train_df[train_df['target'] == 1]  # Correct calls\n",
    "minority = train_df[train_df['target'] == 0]  # Incorrect calls\n",
    "\n",
    "# Downsample majority\n",
    "majority_downsampled = resample(\n",
    "    majority,\n",
    "    replace=False,# No replacement\n",
    "    n_samples=len(minority),# Match number of minority examples\n",
    "    random_state=42\n",
    ")\n",
    "\n",
    "#Combine back\n",
    "train_balanced = pd.concat([majority_downsampled, minority])\n",
    "train_balanced = train_balanced.sample(frac=1, random_state=42).reset_index(drop=True)\n",
    "\n",
    "# Set up x and y train balanced\n",
    "X_train_balanced = train_balanced.drop(columns=['target'])\n",
    "y_train_balanced = train_balanced['target']"
   ]
  },
  {
   "cell_type": "markdown",
   "id": "719e5386",
   "metadata": {},
   "source": [
    "In this code chunk, I set up X and y train, but balance the datasets so there are an equal number of correct and incorrectly called pitches so the model doesn't just predict pitches called correctly"
   ]
  },
  {
   "cell_type": "markdown",
   "id": "678e8871",
   "metadata": {},
   "source": [
    "### Running loop with all features"
   ]
  },
  {
   "cell_type": "code",
   "execution_count": 61,
   "id": "a5f30236",
   "metadata": {},
   "outputs": [],
   "source": [
    "all_quant_cols = [  # only numerical features\n",
    "    'release_speed', 'release_pos_x', 'release_pos_z', 'zone', 'balls', 'strikes',\n",
    "    'pfx_x', 'pfx_z', 'plate_x', 'plate_z', 'outs_when_up', 'inning',\n",
    "    'vx0', 'vy0', 'vz0', 'ax', 'ay', 'az', 'release_spin_rate', 'release_extension',\n",
    "    'release_pos_y', 'at_bat_number', 'pitch_number', 'home_score', 'away_score', 'bat_score',\n",
    "    'fld_score', 'post_away_score', 'post_home_score', 'post_bat_score',\n",
    "    'post_fld_score', 'spin_axis', 'delta_home_win_exp', 'has_event'\n",
    "]\n",
    "\n",
    "all_qual_cols = [\n",
    "    'pitch_type', 'game_date', 'player_name', 'events', 'description', 'des', 'game_type',\n",
    " 'stand', 'p_throws', 'home_team', 'away_team', 'type', 'inning_topbot', 'pitch_name',\n",
    " 'if_fielding_alignment', 'of_fielding_alignment', 'count', 'PBhand', 'pitch_cat', \n",
    " 'batter_fullName', 'batSide', 'batter_birthCountry', 'strike_zone'\n",
    "]\n"
   ]
  },
  {
   "cell_type": "code",
   "execution_count": null,
   "id": "13ad2d7d",
   "metadata": {},
   "outputs": [
    {
     "name": "stderr",
     "output_type": "stream",
     "text": [
      "Evaluating combinations:  70%|██████▉   | 8970/12903 [01:03<00:28, 140.09it/s]"
     ]
    },
    {
     "name": "stdout",
     "output_type": "stream",
     "text": [
      "\n",
      "✅ New best score: 0.5281 with features: ['release_speed', 'release_pos_x', 'count']\n",
      "\n",
      "✅ New best score: 0.5306 with features: ['release_speed', 'zone', 'count']\n",
      "\n",
      "✅ New best score: 0.5468 with features: ['release_speed', 'balls', 'count']\n",
      "\n",
      "✅ New best score: 0.5474 with features: ['release_speed', 'strikes', 'count']\n"
     ]
    },
    {
     "name": "stderr",
     "output_type": "stream",
     "text": [
      "Evaluating combinations:  70%|██████▉   | 9011/12903 [01:05<02:43, 23.79it/s] "
     ]
    },
    {
     "name": "stdout",
     "output_type": "stream",
     "text": [
      "\n",
      "✅ New best score: 0.5479 with features: ['release_pos_x', 'zone', 'count']\n"
     ]
    },
    {
     "name": "stderr",
     "output_type": "stream",
     "text": [
      "Evaluating combinations:  70%|███████   | 9093/12903 [01:09<02:59, 21.28it/s]"
     ]
    },
    {
     "name": "stdout",
     "output_type": "stream",
     "text": [
      "\n",
      "✅ New best score: 0.5512 with features: ['zone', 'pitch_number', 'count']\n"
     ]
    },
    {
     "name": "stderr",
     "output_type": "stream",
     "text": [
      "Evaluating combinations:  71%|███████   | 9105/12903 [01:10<02:51, 22.17it/s]"
     ]
    },
    {
     "name": "stdout",
     "output_type": "stream",
     "text": [
      "\n",
      "✅ New best score: 0.5542 with features: ['zone', 'has_event', 'count']\n"
     ]
    },
    {
     "name": "stderr",
     "output_type": "stream",
     "text": [
      "Evaluating combinations:  71%|███████   | 9134/12903 [01:11<02:48, 22.40it/s]"
     ]
    },
    {
     "name": "stdout",
     "output_type": "stream",
     "text": [
      "\n",
      "✅ New best score: 0.5582 with features: ['balls', 'has_event', 'count']\n"
     ]
    },
    {
     "name": "stderr",
     "output_type": "stream",
     "text": [
      "Evaluating combinations:  96%|█████████▌| 12383/12903 [01:54<00:16, 31.21it/s] "
     ]
    },
    {
     "name": "stdout",
     "output_type": "stream",
     "text": [
      "\n",
      "✅ New best score: 0.5625 with features: ['release_speed', 'has_event', 'strike_zone']\n"
     ]
    },
    {
     "name": "stderr",
     "output_type": "stream",
     "text": [
      "Evaluating combinations:  96%|█████████▌| 12413/12903 [01:55<00:15, 30.74it/s]"
     ]
    },
    {
     "name": "stdout",
     "output_type": "stream",
     "text": [
      "\n",
      "✅ New best score: 0.5628 with features: ['release_pos_x', 'has_event', 'strike_zone']\n"
     ]
    },
    {
     "name": "stderr",
     "output_type": "stream",
     "text": [
      "Evaluating combinations:  97%|█████████▋| 12504/12903 [01:59<00:09, 40.00it/s]"
     ]
    },
    {
     "name": "stdout",
     "output_type": "stream",
     "text": [
      "\n",
      "✅ New best score: 0.5690 with features: ['strikes', 'plate_x', 'strike_zone']\n"
     ]
    },
    {
     "name": "stderr",
     "output_type": "stream",
     "text": [
      "Evaluating combinations:  97%|█████████▋| 12530/12903 [01:59<00:08, 42.72it/s]"
     ]
    },
    {
     "name": "stdout",
     "output_type": "stream",
     "text": [
      "\n",
      "✅ New best score: 0.5811 with features: ['strikes', 'has_event', 'strike_zone']\n"
     ]
    },
    {
     "name": "stderr",
     "output_type": "stream",
     "text": [
      "Evaluating combinations: 100%|██████████| 12903/12903 [02:12<00:00, 97.59it/s]\n"
     ]
    }
   ],
   "source": [
    "# two quant, one qual\n",
    "from itertools import combinations\n",
    "from sklearn.linear_model import LogisticRegression\n",
    "from tqdm import tqdm\n",
    "\n",
    "best_score = 0\n",
    "best_cols = []\n",
    "\n",
    "min_datapoints = 500\n",
    "# Total number of combinations\n",
    "total_combos = len(all_qual_cols) * len(list(combinations(all_quant_cols, 2)))\n",
    "\n",
    "# Initialize progress bar\n",
    "with tqdm(total=total_combos, desc=\"Evaluating combinations\") as pbar:\n",
    "    for qual in all_qual_cols:\n",
    "        for pair in combinations(all_quant_cols, 2): \n",
    "            cols = list(pair) + [qual]  # use just the current qualitative column\n",
    "            try:\n",
    "                # Drop rows with NaNs in selected columns only\n",
    "                X_sub = X_train_balanced[cols].dropna()\n",
    "                y_sub = y_train_balanced.loc[X_sub.index]\n",
    "\n",
    "                if len(X_sub) < min_datapoints:\n",
    "                    continue\n",
    "\n",
    "                LR = LogisticRegression()\n",
    "                LR.fit(X_sub, y_sub)\n",
    "                score = LR.score(X_sub, y_sub)\n",
    "\n",
    "                if score > best_score:\n",
    "                    best_score = score\n",
    "                    best_cols = cols\n",
    "                    print(f\"\\n✅ New best score: {best_score:.4f} with features: {best_cols}\")\n",
    "            except KeyError:\n",
    "                pass\n",
    "            except ValueError:\n",
    "                pass\n",
    "            finally:\n",
    "                pbar.update(1)"
   ]
  },
  {
   "cell_type": "code",
   "execution_count": 63,
   "id": "3ace68dc",
   "metadata": {},
   "outputs": [
    {
     "name": "stdout",
     "output_type": "stream",
     "text": [
      "['strikes', 'has_event', 'strike_zone']\n",
      "0.5810566904586102\n"
     ]
    }
   ],
   "source": [
    "print(best_cols)\n",
    "print(best_score)"
   ]
  },
  {
   "cell_type": "markdown",
   "id": "1b539f86",
   "metadata": {},
   "source": [
    "The best columns I find are pitch number, the total number of at pitches thrown in an at bat, delta_run_exp, the change in run expentency before and after the pitch, and strike zone, depicting if a pitch is called correctly or not."
   ]
  },
  {
   "cell_type": "code",
   "execution_count": 64,
   "id": "e49be4aa",
   "metadata": {},
   "outputs": [
    {
     "data": {
      "image/png": "[encoded data removed]",
      "text/plain": [
       "<Figure size 1500x500 with 3 Axes>"
      ]
     },
     "metadata": {},
     "output_type": "display_data"
    }
   ],
   "source": [
    "# visualizing model\n",
    "\n",
    "import matplotlib.pyplot as plt\n",
    "import seaborn as sns\n",
    "\n",
    "\n",
    "quant1, quant2, qual = best_cols  # Unpack\n",
    "\n",
    "# Set up the full dataframe\n",
    "plot_df = X_train_balanced[[quant1, quant2, qual]].copy()\n",
    "plot_df['target'] = y_train_balanced.values  # Add back the target\n",
    "\n",
    "# Unique categories in the qualitative variable\n",
    "categories = plot_df[qual].dropna().unique()\n",
    "\n",
    "# Set up subplots\n",
    "n_categories = len(categories)\n",
    "n_cols = 3\n",
    "n_rows = (n_categories + n_cols - 1) // n_cols  # rounds up\n",
    "fig, axes = plt.subplots(n_rows, n_cols, figsize=(n_cols*5, n_rows*5), squeeze=False)\n",
    "\n",
    "# Plot each category\n",
    "for idx, category in enumerate(categories):\n",
    "    row = idx // n_cols\n",
    "    col = idx % n_cols\n",
    "    ax = axes[row, col]\n",
    "\n",
    "    # Filter only this category\n",
    "    cat_df = plot_df[plot_df[qual] == category]\n",
    "\n",
    "    # Scatterplot\n",
    "    sns.scatterplot(\n",
    "        data=cat_df,\n",
    "        x=quant1,\n",
    "        y=quant2,\n",
    "        hue='target',\n",
    "        palette={0: 'red', 1: 'blue'},\n",
    "        ax=ax\n",
    "    )\n",
    "\n",
    "    ax.set_title(f\"{qual} = {category}\")\n",
    "    ax.legend(title=\"Correct Call\", loc='best')\n",
    "\n",
    "# Hide unused subplots\n",
    "for idx in range(len(categories), n_rows*n_cols):\n",
    "    row = idx // n_cols\n",
    "    col = idx % n_cols\n",
    "    axes[row][col].axis('off')\n",
    "\n",
    "plt.tight_layout()\n",
    "plt.show()\n"
   ]
  },
  {
   "cell_type": "code",
   "execution_count": 67,
   "id": "1c7bc251",
   "metadata": {},
   "outputs": [
    {
     "name": "stderr",
     "output_type": "stream",
     "text": [
      "Evaluating combinations:   2%|▏         | 263/12903 [00:01<01:47, 117.37it/s]"
     ]
    },
    {
     "name": "stdout",
     "output_type": "stream",
     "text": [
      "\n",
      "✅ New best score: 0.5476 with features: ['count', 'strike_zone', 'release_speed']\n"
     ]
    },
    {
     "name": "stderr",
     "output_type": "stream",
     "text": [
      "Evaluating combinations:   4%|▍         | 513/12903 [00:03<01:22, 150.46it/s]"
     ]
    },
    {
     "name": "stdout",
     "output_type": "stream",
     "text": [
      "\n",
      "✅ New best score: 0.5479 with features: ['count', 'strike_zone', 'release_pos_x']\n"
     ]
    },
    {
     "name": "stderr",
     "output_type": "stream",
     "text": [
      "Evaluating combinations:   6%|▌         | 770/12903 [00:05<01:28, 136.99it/s]"
     ]
    },
    {
     "name": "stdout",
     "output_type": "stream",
     "text": [
      "\n",
      "✅ New best score: 0.5483 with features: ['count', 'strike_zone', 'release_pos_z']\n"
     ]
    },
    {
     "name": "stderr",
     "output_type": "stream",
     "text": [
      "Evaluating combinations:  45%|████▌     | 5827/12903 [00:36<00:42, 168.39it/s]"
     ]
    },
    {
     "name": "stdout",
     "output_type": "stream",
     "text": [
      "\n",
      "✅ New best score: 0.5507 with features: ['count', 'strike_zone', 'pitch_number']\n"
     ]
    },
    {
     "name": "stderr",
     "output_type": "stream",
     "text": [
      "Evaluating combinations:  67%|██████▋   | 8602/12903 [00:52<00:26, 162.36it/s]"
     ]
    },
    {
     "name": "stdout",
     "output_type": "stream",
     "text": [
      "\n",
      "✅ New best score: 0.5596 with features: ['count', 'strike_zone', 'has_event']\n"
     ]
    },
    {
     "name": "stderr",
     "output_type": "stream",
     "text": [
      "\n"
     ]
    }
   ],
   "source": [
    "# two qual, one quant\n",
    "from itertools import combinations\n",
    "from sklearn.linear_model import LogisticRegression\n",
    "from tqdm import tqdm\n",
    "\n",
    "best_score = 0\n",
    "best_cols = []\n",
    "\n",
    "min_datapoints = 500\n",
    "# Total number of combinations\n",
    "total_combos = len(all_qual_cols) * len(list(combinations(all_quant_cols, 2)))\n",
    "\n",
    "# Initialize progress bar\n",
    "with tqdm(total=total_combos, desc=\"Evaluating combinations\") as pbar:\n",
    "    for quant in all_quant_cols:\n",
    "        for pair in combinations(all_qual_cols, 2): \n",
    "            cols = list(pair) + [quant]  # use just the current qualitative column\n",
    "            try:\n",
    "                # Drop rows with NaNs in selected columns only\n",
    "                X_sub = X_train_balanced[cols].dropna()\n",
    "                y_sub = y_train_balanced.loc[X_sub.index]\n",
    "\n",
    "                if len(X_sub) < min_datapoints:\n",
    "                    continue\n",
    "\n",
    "                LR = LogisticRegression()\n",
    "                LR.fit(X_sub, y_sub)\n",
    "                score = LR.score(X_sub, y_sub)\n",
    "\n",
    "                if score > best_score:\n",
    "                    best_score = score\n",
    "                    best_cols = cols\n",
    "                    print(f\"\\n✅ New best score: {best_score:.4f} with features: {best_cols}\")\n",
    "            except KeyError:\n",
    "                pass\n",
    "            except ValueError:\n",
    "                pass\n",
    "            finally:\n",
    "                pbar.update(1)"
   ]
  },
  {
   "cell_type": "markdown",
   "id": "68adb140",
   "metadata": {},
   "source": [
    "### Takeaways\n",
    "\n",
    "Both models don't have great accuracy in predicting what makes an umpire call pitches correctly and inccorectly. While the accuracy is slightly better than 50%, it isn't much, so we need to play around with using other models, perhaps some deep learning to continue to test this. These results could also mean that umps are just good at their jobs, and their missed calls happen at random times."
   ]
  },
  {
   "cell_type": "markdown",
   "id": "32f7be89",
   "metadata": {},
   "source": [
    "### Running on Select Features"
   ]
  },
  {
   "cell_type": "code",
   "execution_count": 18,
   "id": "e87590a9",
   "metadata": {},
   "outputs": [
    {
     "data": {
      "text/html": [
       "<div>\n",
       "<style scoped>\n",
       "    .dataframe tbody tr th:only-of-type {\n",
       "        vertical-align: middle;\n",
       "    }\n",
       "\n",
       "    .dataframe tbody tr th {\n",
       "        vertical-align: top;\n",
       "    }\n",
       "\n",
       "    .dataframe thead th {\n",
       "        text-align: right;\n",
       "    }\n",
       "</style>\n",
       "<table border=\"1\" class=\"dataframe\">\n",
       "  <thead>\n",
       "    <tr style=\"text-align: right;\">\n",
       "      <th></th>\n",
       "      <th>Unnamed: 0</th>\n",
       "      <th>pitch_type</th>\n",
       "      <th>game_date</th>\n",
       "      <th>release_speed</th>\n",
       "      <th>release_pos_x</th>\n",
       "      <th>release_pos_z</th>\n",
       "      <th>player_name</th>\n",
       "      <th>batter</th>\n",
       "      <th>pitcher</th>\n",
       "      <th>events</th>\n",
       "      <th>...</th>\n",
       "      <th>delta_home_win_exp</th>\n",
       "      <th>delta_run_exp</th>\n",
       "      <th>count</th>\n",
       "      <th>PBhand</th>\n",
       "      <th>pitch_cat</th>\n",
       "      <th>batter_fullName</th>\n",
       "      <th>batSide</th>\n",
       "      <th>batter_birthCountry</th>\n",
       "      <th>strike_zone</th>\n",
       "      <th>has_event</th>\n",
       "    </tr>\n",
       "  </thead>\n",
       "  <tbody>\n",
       "    <tr>\n",
       "      <th>176719</th>\n",
       "      <td>158575</td>\n",
       "      <td>CU</td>\n",
       "      <td>2021-05-09</td>\n",
       "      <td>73.2</td>\n",
       "      <td>-1.24</td>\n",
       "      <td>6.49</td>\n",
       "      <td>Wainwright, Adam</td>\n",
       "      <td>606132</td>\n",
       "      <td>425794</td>\n",
       "      <td>NaN</td>\n",
       "      <td>...</td>\n",
       "      <td>0.0</td>\n",
       "      <td>0.057</td>\n",
       "      <td>1_2</td>\n",
       "      <td>bLpR</td>\n",
       "      <td>breaking</td>\n",
       "      <td>Raimel Tapia</td>\n",
       "      <td>L</td>\n",
       "      <td>Dominican Republic</td>\n",
       "      <td>False</td>\n",
       "      <td>0</td>\n",
       "    </tr>\n",
       "    <tr>\n",
       "      <th>274509</th>\n",
       "      <td>245826</td>\n",
       "      <td>KC</td>\n",
       "      <td>2021-06-22</td>\n",
       "      <td>82.9</td>\n",
       "      <td>-1.72</td>\n",
       "      <td>5.63</td>\n",
       "      <td>DeSclafani, Anthony</td>\n",
       "      <td>660271</td>\n",
       "      <td>543101</td>\n",
       "      <td>NaN</td>\n",
       "      <td>...</td>\n",
       "      <td>0.0</td>\n",
       "      <td>0.014</td>\n",
       "      <td>0_1</td>\n",
       "      <td>bLpR</td>\n",
       "      <td>breaking</td>\n",
       "      <td>Shohei Ohtani</td>\n",
       "      <td>L</td>\n",
       "      <td>Japan</td>\n",
       "      <td>False</td>\n",
       "      <td>0</td>\n",
       "    </tr>\n",
       "    <tr>\n",
       "      <th>312688</th>\n",
       "      <td>280329</td>\n",
       "      <td>FF</td>\n",
       "      <td>2021-09-23</td>\n",
       "      <td>96.7</td>\n",
       "      <td>-3.27</td>\n",
       "      <td>4.82</td>\n",
       "      <td>Ramirez, Yohan</td>\n",
       "      <td>516782</td>\n",
       "      <td>670990</td>\n",
       "      <td>NaN</td>\n",
       "      <td>...</td>\n",
       "      <td>0.0</td>\n",
       "      <td>0.131</td>\n",
       "      <td>2_0</td>\n",
       "      <td>bRpR</td>\n",
       "      <td>fastball</td>\n",
       "      <td>Starling Marte</td>\n",
       "      <td>R</td>\n",
       "      <td>Dominican Republic</td>\n",
       "      <td>False</td>\n",
       "      <td>0</td>\n",
       "    </tr>\n",
       "    <tr>\n",
       "      <th>573370</th>\n",
       "      <td>513628</td>\n",
       "      <td>SI</td>\n",
       "      <td>2021-09-24</td>\n",
       "      <td>90.8</td>\n",
       "      <td>-0.32</td>\n",
       "      <td>5.58</td>\n",
       "      <td>Gray, Sonny</td>\n",
       "      <td>657041</td>\n",
       "      <td>543243</td>\n",
       "      <td>NaN</td>\n",
       "      <td>...</td>\n",
       "      <td>0.0</td>\n",
       "      <td>-0.028</td>\n",
       "      <td>2_1</td>\n",
       "      <td>bRpR</td>\n",
       "      <td>fastball</td>\n",
       "      <td>Lane Thomas</td>\n",
       "      <td>R</td>\n",
       "      <td>USA</td>\n",
       "      <td>True</td>\n",
       "      <td>0</td>\n",
       "    </tr>\n",
       "    <tr>\n",
       "      <th>350886</th>\n",
       "      <td>314748</td>\n",
       "      <td>CH</td>\n",
       "      <td>2021-06-26</td>\n",
       "      <td>85.6</td>\n",
       "      <td>-3.67</td>\n",
       "      <td>5.87</td>\n",
       "      <td>Floro, Dylan</td>\n",
       "      <td>665742</td>\n",
       "      <td>571670</td>\n",
       "      <td>NaN</td>\n",
       "      <td>...</td>\n",
       "      <td>0.0</td>\n",
       "      <td>0.038</td>\n",
       "      <td>0_0</td>\n",
       "      <td>bLpR</td>\n",
       "      <td>offspeed</td>\n",
       "      <td>Juan Soto</td>\n",
       "      <td>L</td>\n",
       "      <td>Dominican Republic</td>\n",
       "      <td>False</td>\n",
       "      <td>0</td>\n",
       "    </tr>\n",
       "  </tbody>\n",
       "</table>\n",
       "<p>5 rows × 101 columns</p>\n",
       "</div>"
      ],
      "text/plain": [
       "        Unnamed: 0 pitch_type   game_date  release_speed  release_pos_x  \\\n",
       "176719      158575         CU  2021-05-09           73.2          -1.24   \n",
       "274509      245826         KC  2021-06-22           82.9          -1.72   \n",
       "312688      280329         FF  2021-09-23           96.7          -3.27   \n",
       "573370      513628         SI  2021-09-24           90.8          -0.32   \n",
       "350886      314748         CH  2021-06-26           85.6          -3.67   \n",
       "\n",
       "        release_pos_z          player_name  batter  pitcher events  ...  \\\n",
       "176719           6.49     Wainwright, Adam  606132   425794    NaN  ...   \n",
       "274509           5.63  DeSclafani, Anthony  660271   543101    NaN  ...   \n",
       "312688           4.82       Ramirez, Yohan  516782   670990    NaN  ...   \n",
       "573370           5.58          Gray, Sonny  657041   543243    NaN  ...   \n",
       "350886           5.87         Floro, Dylan  665742   571670    NaN  ...   \n",
       "\n",
       "       delta_home_win_exp  delta_run_exp  count  PBhand  pitch_cat  \\\n",
       "176719                0.0          0.057    1_2    bLpR   breaking   \n",
       "274509                0.0          0.014    0_1    bLpR   breaking   \n",
       "312688                0.0          0.131    2_0    bRpR   fastball   \n",
       "573370                0.0         -0.028    2_1    bRpR   fastball   \n",
       "350886                0.0          0.038    0_0    bLpR   offspeed   \n",
       "\n",
       "        batter_fullName batSide batter_birthCountry strike_zone has_event  \n",
       "176719     Raimel Tapia       L  Dominican Republic       False         0  \n",
       "274509    Shohei Ohtani       L               Japan       False         0  \n",
       "312688   Starling Marte       R  Dominican Republic       False         0  \n",
       "573370      Lane Thomas       R                 USA        True         0  \n",
       "350886        Juan Soto       L  Dominican Republic       False         0  \n",
       "\n",
       "[5 rows x 101 columns]"
      ]
     },
     "execution_count": 18,
     "metadata": {},
     "output_type": "execute_result"
    }
   ],
   "source": [
    "from sklearn.model_selection import train_test_split\n",
    "\n",
    "X_train, X_test, y_train, y_test = train_test_split(X, y)\n",
    "X_train.head()"
   ]
  },
  {
   "cell_type": "code",
   "execution_count": null,
   "id": "28e896b3",
   "metadata": {},
   "outputs": [],
   "source": [
    "all_quant_cols = [  # only numerical features\n",
    "    'release_speed', 'release_pos_x', 'release_pos_z', 'zone', 'balls', 'strikes',\n",
    "    'outs_when_up', 'inning',\n",
    "    'at_bat_number', 'pitch_number', 'home_score', 'away_score', 'bat_score',\n",
    "    'fld_score', 'delta_home_win_exp', 'delta_run_exp', 'has_event'\n",
    "]\n",
    "\n",
    "all_qual_cols = [\n",
    "    'pitch_type', 'game_date', 'player_name', 'events', 'description', 'des', 'game_type',\n",
    " 'stand', 'p_throws', 'home_team', 'away_team', 'type', 'inning_topbot', 'pitch_name',\n",
    " 'if_fielding_alignment', 'of_fielding_alignment', 'count', 'PBhand', 'pitch_cat', \n",
    " 'batter_fullName', 'batSide', 'batter_birthCountry', 'strike_zone'\n",
    "]"
   ]
  },
  {
   "cell_type": "code",
   "execution_count": 21,
   "id": "7ea56fca",
   "metadata": {},
   "outputs": [
    {
     "name": "stderr",
     "output_type": "stream",
     "text": [
      "Evaluating combinations:  70%|██████▉   | 2177/3128 [01:30<01:13, 12.86it/s]"
     ]
    },
    {
     "name": "stdout",
     "output_type": "stream",
     "text": [
      "\n",
      "✅ New best score: 0.9174 with features: ['release_speed', 'release_pos_x', 'count']\n"
     ]
    },
    {
     "name": "stderr",
     "output_type": "stream",
     "text": [
      "Evaluating combinations:  70%|███████   | 2193/3128 [01:36<04:59,  3.12it/s]"
     ]
    },
    {
     "name": "stdout",
     "output_type": "stream",
     "text": [
      "\n",
      "✅ New best score: 0.9174 with features: ['release_pos_x', 'release_pos_z', 'count']\n"
     ]
    },
    {
     "name": "stderr",
     "output_type": "stream",
     "text": [
      "Evaluating combinations: 100%|██████████| 3128/3128 [02:53<00:00, 18.03it/s]\n"
     ]
    }
   ],
   "source": [
    "\n",
    "from itertools import combinations\n",
    "from sklearn.linear_model import LogisticRegression\n",
    "from tqdm import tqdm\n",
    "\n",
    "best_score = 0\n",
    "best_cols = []\n",
    "\n",
    "min_datapoints = 500\n",
    "# Total number of combinations\n",
    "total_combos = len(all_qual_cols) * len(list(combinations(all_quant_cols, 2)))\n",
    "\n",
    "# Initialize progress bar\n",
    "with tqdm(total=total_combos, desc=\"Evaluating combinations\") as pbar:\n",
    "    for qual in all_qual_cols:\n",
    "        for pair in combinations(all_quant_cols, 2): \n",
    "            cols = list(pair) + [qual]  # use just the current qualitative column\n",
    "            try:\n",
    "                # Drop rows with NaNs in selected columns only\n",
    "                X_sub = X_train[cols].dropna()\n",
    "                y_sub = y_train.loc[X_sub.index]\n",
    "\n",
    "                if len(X_sub) < min_datapoints:\n",
    "                    continue\n",
    "\n",
    "                LR = LogisticRegression()\n",
    "                LR.fit(X_sub, y_sub)\n",
    "                score = LR.score(X_sub, y_sub)\n",
    "\n",
    "                if score > best_score:\n",
    "                    best_score = score\n",
    "                    best_cols = cols\n",
    "                    print(f\"\\n✅ New best score: {best_score:.4f} with features: {best_cols}\")\n",
    "            except KeyError:\n",
    "                pass\n",
    "            except ValueError:\n",
    "                pass\n",
    "            finally:\n",
    "                pbar.update(1)"
   ]
  },
  {
   "cell_type": "code",
   "execution_count": 22,
   "id": "407bea56",
   "metadata": {},
   "outputs": [
    {
     "name": "stdout",
     "output_type": "stream",
     "text": [
      "['release_pos_x', 'release_pos_z', 'count']\n",
      "0.9173598949211909\n"
     ]
    }
   ],
   "source": [
    "print(best_cols)\n",
    "print(best_score)"
   ]
  }
 ],
 "metadata": {
  "kernelspec": {
   "display_name": "ml-0451",
   "language": "python",
   "name": "python3"
  },
  "language_info": {
   "codemirror_mode": {
    "name": "ipython",
    "version": 3
   },
   "file_extension": ".py",
   "mimetype": "text/x-python",
   "name": "python",
   "nbconvert_exporter": "python",
   "pygments_lexer": "ipython3",
   "version": "3.9.21"
  }
 },
 "nbformat": 4,
 "nbformat_minor": 5
}
