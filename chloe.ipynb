{
 "cells": [
  {
   "cell_type": "code",
   "execution_count": 3,
   "id": "18965116",
   "metadata": {},
   "outputs": [],
   "source": [
    "import statsapi\n",
    "import pandas as pd\n"
   ]
  },
  {
   "cell_type": "markdown",
   "id": "dc2c9a2d",
   "metadata": {},
   "source": [
    "## Preprocessing"
   ]
  },
  {
   "cell_type": "code",
   "execution_count": 4,
   "id": "5be14a30",
   "metadata": {},
   "outputs": [],
   "source": [
    "players = pd.read_csv(\"mlb_players_2021.csv\")\n",
    "pitches = pd.read_csv(\"regseason.csv\")"
   ]
  },
  {
   "cell_type": "code",
   "execution_count": 5,
   "id": "461af834",
   "metadata": {},
   "outputs": [
    {
     "data": {
      "text/html": [
       "<div>\n",
       "<style scoped>\n",
       "    .dataframe tbody tr th:only-of-type {\n",
       "        vertical-align: middle;\n",
       "    }\n",
       "\n",
       "    .dataframe tbody tr th {\n",
       "        vertical-align: top;\n",
       "    }\n",
       "\n",
       "    .dataframe thead th {\n",
       "        text-align: right;\n",
       "    }\n",
       "</style>\n",
       "<table border=\"1\" class=\"dataframe\">\n",
       "  <thead>\n",
       "    <tr style=\"text-align: right;\">\n",
       "      <th></th>\n",
       "      <th>batter</th>\n",
       "      <th>batter_fullName</th>\n",
       "      <th>birthDate</th>\n",
       "      <th>batter_birthCountry</th>\n",
       "      <th>height</th>\n",
       "      <th>weight</th>\n",
       "      <th>primaryPosition</th>\n",
       "      <th>batSide</th>\n",
       "      <th>pitchHand</th>\n",
       "      <th>debutDate</th>\n",
       "      <th>active</th>\n",
       "    </tr>\n",
       "  </thead>\n",
       "  <tbody>\n",
       "    <tr>\n",
       "      <th>0</th>\n",
       "      <td>642758</td>\n",
       "      <td>Domingo Acevedo</td>\n",
       "      <td>1994-03-06</td>\n",
       "      <td>Dominican Republic</td>\n",
       "      <td>6' 7\"</td>\n",
       "      <td>240</td>\n",
       "      <td>P</td>\n",
       "      <td>R</td>\n",
       "      <td>R</td>\n",
       "      <td>2021-06-21</td>\n",
       "      <td>True</td>\n",
       "    </tr>\n",
       "    <tr>\n",
       "      <th>1</th>\n",
       "      <td>664119</td>\n",
       "      <td>Austin Allen</td>\n",
       "      <td>1994-01-16</td>\n",
       "      <td>USA</td>\n",
       "      <td>6' 1\"</td>\n",
       "      <td>219</td>\n",
       "      <td>C</td>\n",
       "      <td>L</td>\n",
       "      <td>R</td>\n",
       "      <td>2019-05-11</td>\n",
       "      <td>False</td>\n",
       "    </tr>\n",
       "    <tr>\n",
       "      <th>2</th>\n",
       "      <td>462101</td>\n",
       "      <td>Elvis Andrus</td>\n",
       "      <td>1988-08-26</td>\n",
       "      <td>Venezuela</td>\n",
       "      <td>6' 0\"</td>\n",
       "      <td>210</td>\n",
       "      <td>SS</td>\n",
       "      <td>R</td>\n",
       "      <td>R</td>\n",
       "      <td>2009-04-06</td>\n",
       "      <td>False</td>\n",
       "    </tr>\n",
       "    <tr>\n",
       "      <th>3</th>\n",
       "      <td>642456</td>\n",
       "      <td>Luis Barrera</td>\n",
       "      <td>1995-11-15</td>\n",
       "      <td>Dominican Republic</td>\n",
       "      <td>6' 0\"</td>\n",
       "      <td>195</td>\n",
       "      <td>OF</td>\n",
       "      <td>L</td>\n",
       "      <td>L</td>\n",
       "      <td>2021-05-19</td>\n",
       "      <td>True</td>\n",
       "    </tr>\n",
       "    <tr>\n",
       "      <th>4</th>\n",
       "      <td>605135</td>\n",
       "      <td>Chris Bassitt</td>\n",
       "      <td>1989-02-22</td>\n",
       "      <td>USA</td>\n",
       "      <td>6' 5\"</td>\n",
       "      <td>217</td>\n",
       "      <td>P</td>\n",
       "      <td>R</td>\n",
       "      <td>R</td>\n",
       "      <td>2014-08-30</td>\n",
       "      <td>True</td>\n",
       "    </tr>\n",
       "  </tbody>\n",
       "</table>\n",
       "</div>"
      ],
      "text/plain": [
       "   batter  batter_fullName   birthDate batter_birthCountry height  weight  \\\n",
       "0  642758  Domingo Acevedo  1994-03-06  Dominican Republic  6' 7\"     240   \n",
       "1  664119     Austin Allen  1994-01-16                 USA  6' 1\"     219   \n",
       "2  462101     Elvis Andrus  1988-08-26           Venezuela  6' 0\"     210   \n",
       "3  642456     Luis Barrera  1995-11-15  Dominican Republic  6' 0\"     195   \n",
       "4  605135    Chris Bassitt  1989-02-22                 USA  6' 5\"     217   \n",
       "\n",
       "  primaryPosition batSide pitchHand   debutDate  active  \n",
       "0               P       R         R  2021-06-21    True  \n",
       "1               C       L         R  2019-05-11   False  \n",
       "2              SS       R         R  2009-04-06   False  \n",
       "3              OF       L         L  2021-05-19    True  \n",
       "4               P       R         R  2014-08-30    True  "
      ]
     },
     "execution_count": 5,
     "metadata": {},
     "output_type": "execute_result"
    }
   ],
   "source": [
    "players.rename(columns={\"id\" : \"batter\",\"fullName\" : \"batter_fullName\" , \"birthCountry\" : \"batter_birthCountry\"}, inplace=True)\n",
    "players.head()"
   ]
  },
  {
   "cell_type": "code",
   "execution_count": 6,
   "id": "fff574fc",
   "metadata": {},
   "outputs": [
    {
     "data": {
      "text/html": [
       "<div>\n",
       "<style scoped>\n",
       "    .dataframe tbody tr th:only-of-type {\n",
       "        vertical-align: middle;\n",
       "    }\n",
       "\n",
       "    .dataframe tbody tr th {\n",
       "        vertical-align: top;\n",
       "    }\n",
       "\n",
       "    .dataframe thead th {\n",
       "        text-align: right;\n",
       "    }\n",
       "</style>\n",
       "<table border=\"1\" class=\"dataframe\">\n",
       "  <thead>\n",
       "    <tr style=\"text-align: right;\">\n",
       "      <th></th>\n",
       "      <th>Unnamed: 0</th>\n",
       "      <th>pitch_type</th>\n",
       "      <th>game_date</th>\n",
       "      <th>release_speed</th>\n",
       "      <th>release_pos_x</th>\n",
       "      <th>release_pos_z</th>\n",
       "      <th>player_name</th>\n",
       "      <th>batter</th>\n",
       "      <th>pitcher</th>\n",
       "      <th>events</th>\n",
       "      <th>...</th>\n",
       "      <th>of_fielding_alignment</th>\n",
       "      <th>spin_axis</th>\n",
       "      <th>delta_home_win_exp</th>\n",
       "      <th>delta_run_exp</th>\n",
       "      <th>count</th>\n",
       "      <th>PBhand</th>\n",
       "      <th>pitch_cat</th>\n",
       "      <th>batter_fullName</th>\n",
       "      <th>batSide</th>\n",
       "      <th>batter_birthCountry</th>\n",
       "    </tr>\n",
       "  </thead>\n",
       "  <tbody>\n",
       "    <tr>\n",
       "      <th>0</th>\n",
       "      <td>1</td>\n",
       "      <td>SL</td>\n",
       "      <td>2021-10-03</td>\n",
       "      <td>85.1</td>\n",
       "      <td>2.39</td>\n",
       "      <td>6.05</td>\n",
       "      <td>Detmers, Reid</td>\n",
       "      <td>641487</td>\n",
       "      <td>672282</td>\n",
       "      <td>single</td>\n",
       "      <td>...</td>\n",
       "      <td>Standard</td>\n",
       "      <td>293.0</td>\n",
       "      <td>0.079</td>\n",
       "      <td>0.780</td>\n",
       "      <td>0_1</td>\n",
       "      <td>bLpL</td>\n",
       "      <td>breaking</td>\n",
       "      <td>J.P. Crawford</td>\n",
       "      <td>L</td>\n",
       "      <td>USA</td>\n",
       "    </tr>\n",
       "    <tr>\n",
       "      <th>1</th>\n",
       "      <td>2</td>\n",
       "      <td>FF</td>\n",
       "      <td>2021-10-03</td>\n",
       "      <td>93.8</td>\n",
       "      <td>2.31</td>\n",
       "      <td>6.03</td>\n",
       "      <td>Detmers, Reid</td>\n",
       "      <td>641487</td>\n",
       "      <td>672282</td>\n",
       "      <td>NaN</td>\n",
       "      <td>...</td>\n",
       "      <td>Standard</td>\n",
       "      <td>150.0</td>\n",
       "      <td>0.000</td>\n",
       "      <td>-0.045</td>\n",
       "      <td>0_0</td>\n",
       "      <td>bLpL</td>\n",
       "      <td>fastball</td>\n",
       "      <td>J.P. Crawford</td>\n",
       "      <td>L</td>\n",
       "      <td>USA</td>\n",
       "    </tr>\n",
       "    <tr>\n",
       "      <th>2</th>\n",
       "      <td>3</td>\n",
       "      <td>CU</td>\n",
       "      <td>2021-10-03</td>\n",
       "      <td>73.9</td>\n",
       "      <td>2.12</td>\n",
       "      <td>6.25</td>\n",
       "      <td>Detmers, Reid</td>\n",
       "      <td>664238</td>\n",
       "      <td>672282</td>\n",
       "      <td>strikeout</td>\n",
       "      <td>...</td>\n",
       "      <td>Standard</td>\n",
       "      <td>329.0</td>\n",
       "      <td>-0.032</td>\n",
       "      <td>-0.315</td>\n",
       "      <td>2_2</td>\n",
       "      <td>bRpL</td>\n",
       "      <td>breaking</td>\n",
       "      <td>Dylan Moore</td>\n",
       "      <td>R</td>\n",
       "      <td>USA</td>\n",
       "    </tr>\n",
       "    <tr>\n",
       "      <th>3</th>\n",
       "      <td>4</td>\n",
       "      <td>FF</td>\n",
       "      <td>2021-10-03</td>\n",
       "      <td>94.6</td>\n",
       "      <td>2.43</td>\n",
       "      <td>5.96</td>\n",
       "      <td>Detmers, Reid</td>\n",
       "      <td>664238</td>\n",
       "      <td>672282</td>\n",
       "      <td>NaN</td>\n",
       "      <td>...</td>\n",
       "      <td>Standard</td>\n",
       "      <td>146.0</td>\n",
       "      <td>0.000</td>\n",
       "      <td>0.047</td>\n",
       "      <td>1_2</td>\n",
       "      <td>bRpL</td>\n",
       "      <td>fastball</td>\n",
       "      <td>Dylan Moore</td>\n",
       "      <td>R</td>\n",
       "      <td>USA</td>\n",
       "    </tr>\n",
       "    <tr>\n",
       "      <th>4</th>\n",
       "      <td>5</td>\n",
       "      <td>FF</td>\n",
       "      <td>2021-10-03</td>\n",
       "      <td>94.3</td>\n",
       "      <td>2.08</td>\n",
       "      <td>6.15</td>\n",
       "      <td>Detmers, Reid</td>\n",
       "      <td>664238</td>\n",
       "      <td>672282</td>\n",
       "      <td>NaN</td>\n",
       "      <td>...</td>\n",
       "      <td>Standard</td>\n",
       "      <td>151.0</td>\n",
       "      <td>0.000</td>\n",
       "      <td>0.000</td>\n",
       "      <td>1_2</td>\n",
       "      <td>bRpL</td>\n",
       "      <td>fastball</td>\n",
       "      <td>Dylan Moore</td>\n",
       "      <td>R</td>\n",
       "      <td>USA</td>\n",
       "    </tr>\n",
       "  </tbody>\n",
       "</table>\n",
       "<p>5 rows × 99 columns</p>\n",
       "</div>"
      ],
      "text/plain": [
       "   Unnamed: 0 pitch_type   game_date  release_speed  release_pos_x  \\\n",
       "0           1         SL  2021-10-03           85.1           2.39   \n",
       "1           2         FF  2021-10-03           93.8           2.31   \n",
       "2           3         CU  2021-10-03           73.9           2.12   \n",
       "3           4         FF  2021-10-03           94.6           2.43   \n",
       "4           5         FF  2021-10-03           94.3           2.08   \n",
       "\n",
       "   release_pos_z    player_name  batter  pitcher     events  ...  \\\n",
       "0           6.05  Detmers, Reid  641487   672282     single  ...   \n",
       "1           6.03  Detmers, Reid  641487   672282        NaN  ...   \n",
       "2           6.25  Detmers, Reid  664238   672282  strikeout  ...   \n",
       "3           5.96  Detmers, Reid  664238   672282        NaN  ...   \n",
       "4           6.15  Detmers, Reid  664238   672282        NaN  ...   \n",
       "\n",
       "  of_fielding_alignment  spin_axis  delta_home_win_exp  delta_run_exp  count  \\\n",
       "0              Standard      293.0               0.079          0.780    0_1   \n",
       "1              Standard      150.0               0.000         -0.045    0_0   \n",
       "2              Standard      329.0              -0.032         -0.315    2_2   \n",
       "3              Standard      146.0               0.000          0.047    1_2   \n",
       "4              Standard      151.0               0.000          0.000    1_2   \n",
       "\n",
       "   PBhand pitch_cat batter_fullName batSide batter_birthCountry  \n",
       "0    bLpL  breaking   J.P. Crawford       L                 USA  \n",
       "1    bLpL  fastball   J.P. Crawford       L                 USA  \n",
       "2    bRpL  breaking     Dylan Moore       R                 USA  \n",
       "3    bRpL  fastball     Dylan Moore       R                 USA  \n",
       "4    bRpL  fastball     Dylan Moore       R                 USA  \n",
       "\n",
       "[5 rows x 99 columns]"
      ]
     },
     "execution_count": 6,
     "metadata": {},
     "output_type": "execute_result"
    }
   ],
   "source": [
    "# Merge pitches df with info about the batter\n",
    "full_df = pd.merge(pitches, players[[\"batter\",\"batter_fullName\",\"batSide\", \"batter_birthCountry\"]], on=\"batter\")\n",
    "full_df.head()"
   ]
  },
  {
   "cell_type": "code",
   "execution_count": 7,
   "id": "411cf60a",
   "metadata": {},
   "outputs": [
    {
     "data": {
      "text/html": [
       "<div>\n",
       "<style scoped>\n",
       "    .dataframe tbody tr th:only-of-type {\n",
       "        vertical-align: middle;\n",
       "    }\n",
       "\n",
       "    .dataframe tbody tr th {\n",
       "        vertical-align: top;\n",
       "    }\n",
       "\n",
       "    .dataframe thead th {\n",
       "        text-align: right;\n",
       "    }\n",
       "</style>\n",
       "<table border=\"1\" class=\"dataframe\">\n",
       "  <thead>\n",
       "    <tr style=\"text-align: right;\">\n",
       "      <th></th>\n",
       "      <th>Unnamed: 0</th>\n",
       "      <th>pitch_type</th>\n",
       "      <th>game_date</th>\n",
       "      <th>release_speed</th>\n",
       "      <th>release_pos_x</th>\n",
       "      <th>release_pos_z</th>\n",
       "      <th>player_name</th>\n",
       "      <th>batter</th>\n",
       "      <th>pitcher</th>\n",
       "      <th>events</th>\n",
       "      <th>...</th>\n",
       "      <th>of_fielding_alignment</th>\n",
       "      <th>spin_axis</th>\n",
       "      <th>delta_home_win_exp</th>\n",
       "      <th>delta_run_exp</th>\n",
       "      <th>count</th>\n",
       "      <th>PBhand</th>\n",
       "      <th>pitch_cat</th>\n",
       "      <th>batter_fullName</th>\n",
       "      <th>batSide</th>\n",
       "      <th>batter_birthCountry</th>\n",
       "    </tr>\n",
       "  </thead>\n",
       "  <tbody>\n",
       "    <tr>\n",
       "      <th>2</th>\n",
       "      <td>3</td>\n",
       "      <td>CU</td>\n",
       "      <td>2021-10-03</td>\n",
       "      <td>73.9</td>\n",
       "      <td>2.12</td>\n",
       "      <td>6.25</td>\n",
       "      <td>Detmers, Reid</td>\n",
       "      <td>664238</td>\n",
       "      <td>672282</td>\n",
       "      <td>strikeout</td>\n",
       "      <td>...</td>\n",
       "      <td>Standard</td>\n",
       "      <td>329.0</td>\n",
       "      <td>-0.032</td>\n",
       "      <td>-0.315</td>\n",
       "      <td>2_2</td>\n",
       "      <td>bRpL</td>\n",
       "      <td>breaking</td>\n",
       "      <td>Dylan Moore</td>\n",
       "      <td>R</td>\n",
       "      <td>USA</td>\n",
       "    </tr>\n",
       "    <tr>\n",
       "      <th>3</th>\n",
       "      <td>4</td>\n",
       "      <td>FF</td>\n",
       "      <td>2021-10-03</td>\n",
       "      <td>94.6</td>\n",
       "      <td>2.43</td>\n",
       "      <td>5.96</td>\n",
       "      <td>Detmers, Reid</td>\n",
       "      <td>664238</td>\n",
       "      <td>672282</td>\n",
       "      <td>NaN</td>\n",
       "      <td>...</td>\n",
       "      <td>Standard</td>\n",
       "      <td>146.0</td>\n",
       "      <td>0.000</td>\n",
       "      <td>0.047</td>\n",
       "      <td>1_2</td>\n",
       "      <td>bRpL</td>\n",
       "      <td>fastball</td>\n",
       "      <td>Dylan Moore</td>\n",
       "      <td>R</td>\n",
       "      <td>USA</td>\n",
       "    </tr>\n",
       "    <tr>\n",
       "      <th>6</th>\n",
       "      <td>7</td>\n",
       "      <td>FF</td>\n",
       "      <td>2021-10-03</td>\n",
       "      <td>94.2</td>\n",
       "      <td>2.33</td>\n",
       "      <td>5.94</td>\n",
       "      <td>Detmers, Reid</td>\n",
       "      <td>664238</td>\n",
       "      <td>672282</td>\n",
       "      <td>NaN</td>\n",
       "      <td>...</td>\n",
       "      <td>Standard</td>\n",
       "      <td>145.0</td>\n",
       "      <td>0.000</td>\n",
       "      <td>0.032</td>\n",
       "      <td>0_1</td>\n",
       "      <td>bRpL</td>\n",
       "      <td>fastball</td>\n",
       "      <td>Dylan Moore</td>\n",
       "      <td>R</td>\n",
       "      <td>USA</td>\n",
       "    </tr>\n",
       "    <tr>\n",
       "      <th>9</th>\n",
       "      <td>10</td>\n",
       "      <td>CU</td>\n",
       "      <td>2021-10-03</td>\n",
       "      <td>73.9</td>\n",
       "      <td>2.22</td>\n",
       "      <td>6.23</td>\n",
       "      <td>Detmers, Reid</td>\n",
       "      <td>663728</td>\n",
       "      <td>672282</td>\n",
       "      <td>NaN</td>\n",
       "      <td>...</td>\n",
       "      <td>Standard</td>\n",
       "      <td>322.0</td>\n",
       "      <td>0.000</td>\n",
       "      <td>0.174</td>\n",
       "      <td>2_2</td>\n",
       "      <td>bRpL</td>\n",
       "      <td>breaking</td>\n",
       "      <td>Cal Raleigh</td>\n",
       "      <td>S</td>\n",
       "      <td>USA</td>\n",
       "    </tr>\n",
       "    <tr>\n",
       "      <th>12</th>\n",
       "      <td>13</td>\n",
       "      <td>FF</td>\n",
       "      <td>2021-10-03</td>\n",
       "      <td>94.4</td>\n",
       "      <td>2.48</td>\n",
       "      <td>5.97</td>\n",
       "      <td>Detmers, Reid</td>\n",
       "      <td>663728</td>\n",
       "      <td>672282</td>\n",
       "      <td>NaN</td>\n",
       "      <td>...</td>\n",
       "      <td>Standard</td>\n",
       "      <td>148.0</td>\n",
       "      <td>0.000</td>\n",
       "      <td>0.062</td>\n",
       "      <td>1_2</td>\n",
       "      <td>bRpL</td>\n",
       "      <td>fastball</td>\n",
       "      <td>Cal Raleigh</td>\n",
       "      <td>S</td>\n",
       "      <td>USA</td>\n",
       "    </tr>\n",
       "  </tbody>\n",
       "</table>\n",
       "<p>5 rows × 99 columns</p>\n",
       "</div>"
      ],
      "text/plain": [
       "    Unnamed: 0 pitch_type   game_date  release_speed  release_pos_x  \\\n",
       "2            3         CU  2021-10-03           73.9           2.12   \n",
       "3            4         FF  2021-10-03           94.6           2.43   \n",
       "6            7         FF  2021-10-03           94.2           2.33   \n",
       "9           10         CU  2021-10-03           73.9           2.22   \n",
       "12          13         FF  2021-10-03           94.4           2.48   \n",
       "\n",
       "    release_pos_z    player_name  batter  pitcher     events  ...  \\\n",
       "2            6.25  Detmers, Reid  664238   672282  strikeout  ...   \n",
       "3            5.96  Detmers, Reid  664238   672282        NaN  ...   \n",
       "6            5.94  Detmers, Reid  664238   672282        NaN  ...   \n",
       "9            6.23  Detmers, Reid  663728   672282        NaN  ...   \n",
       "12           5.97  Detmers, Reid  663728   672282        NaN  ...   \n",
       "\n",
       "   of_fielding_alignment  spin_axis  delta_home_win_exp  delta_run_exp  count  \\\n",
       "2               Standard      329.0              -0.032         -0.315    2_2   \n",
       "3               Standard      146.0               0.000          0.047    1_2   \n",
       "6               Standard      145.0               0.000          0.032    0_1   \n",
       "9               Standard      322.0               0.000          0.174    2_2   \n",
       "12              Standard      148.0               0.000          0.062    1_2   \n",
       "\n",
       "    PBhand pitch_cat batter_fullName batSide batter_birthCountry  \n",
       "2     bRpL  breaking     Dylan Moore       R                 USA  \n",
       "3     bRpL  fastball     Dylan Moore       R                 USA  \n",
       "6     bRpL  fastball     Dylan Moore       R                 USA  \n",
       "9     bRpL  breaking     Cal Raleigh       S                 USA  \n",
       "12    bRpL  fastball     Cal Raleigh       S                 USA  \n",
       "\n",
       "[5 rows x 99 columns]"
      ]
     },
     "execution_count": 7,
     "metadata": {},
     "output_type": "execute_result"
    }
   ],
   "source": [
    "# Remove the pitches that were fouled, in play, or swung at\n",
    "not_hit = [\"called_strike\", \"ball\"]\n",
    "pitches_not_hit = full_df[full_df['description'].isin(not_hit)].copy()\n",
    "len(pitches_not_hit)\n",
    "pitches_not_hit.head()"
   ]
  },
  {
   "cell_type": "code",
   "execution_count": 10,
   "id": "3a570f5f",
   "metadata": {},
   "outputs": [],
   "source": [
    "pitches_not_hit[\"strike_zone\"] = pitches_not_hit[\"zone\"] <= 9 # Determine if the pitch was actually in the zone\n",
    "\n",
    "pitches_not_hit[\"called_correctly\"] = (\n",
    "    ((pitches_not_hit[\"zone\"] <= 9) & (pitches_not_hit[\"type\"] == \"S\")) | # Pitch is in the zone and is called a strike  \n",
    "    ((pitches_not_hit[\"zone\"] > 9) & (pitches_not_hit[\"type\"] == \"B\"))    # Pitch is not in the zone and is called a ball\n",
    ") \n",
    "pitches_not_hit[\"called_correctly\"] = pitches_not_hit[\"called_correctly\"].astype(int) # This will be are target variable -- whether the pitch was called \"correctly\""
   ]
  },
  {
   "cell_type": "code",
   "execution_count": 79,
   "id": "01108d9b",
   "metadata": {},
   "outputs": [
    {
     "data": {
      "text/plain": [
       "array([ 0., nan])"
      ]
     },
     "execution_count": 79,
     "metadata": {},
     "output_type": "execute_result"
    }
   ],
   "source": [
    "pitches_not_hit[\"babip_value\"].unique()"
   ]
  },
  {
   "cell_type": "code",
   "execution_count": 80,
   "id": "cee267f8",
   "metadata": {},
   "outputs": [
    {
     "data": {
      "text/plain": [
       "array([ 0., nan])"
      ]
     },
     "execution_count": 80,
     "metadata": {},
     "output_type": "execute_result"
    }
   ],
   "source": [
    "pitches_not_hit[\"iso_value\"].unique()"
   ]
  },
  {
   "cell_type": "markdown",
   "id": "fcf7a10a",
   "metadata": {},
   "source": [
    "## New addition"
   ]
  },
  {
   "cell_type": "code",
   "execution_count": null,
   "id": "0bacca06",
   "metadata": {},
   "outputs": [],
   "source": [
    "# Creating a new variable to see if a game altering event (out or man on base) came as a result of the pitch\n",
    "pitches_not_hit['has_event'] = pitches_not_hit['events'].notna().astype(int) "
   ]
  },
  {
   "cell_type": "code",
   "execution_count": null,
   "id": "341fb33e",
   "metadata": {},
   "outputs": [],
   "source": [
    "from sklearn.model_selection import train_test_split\n",
    "from sklearn.utils import resample\n",
    "\n",
    "y = pitches_not_hit[\"called_correctly\"]\n",
    "X= pitches_not_hit.drop([\"called_correctly\"], axis= 1)\n",
    "\n",
    "X_train, X_test, y_train, y_test = train_test_split(X, y)\n",
    "X_train.head()\n",
    "\n",
    "# Combining into a new df\n",
    "train_df = X_train.copy()\n",
    "train_df['target'] = y_train\n",
    "\n",
    "# Split into correct/incorrect\n",
    "majority = train_df[train_df['target'] == 1]  # Correct calls\n",
    "minority = train_df[train_df['target'] == 0]  # Incorrect calls\n",
    "\n",
    "# Downsample majority\n",
    "majority_downsampled = resample(\n",
    "    majority,\n",
    "    replace=False,# no replacement\n",
    "    n_samples=len(minority),#Match number of minority examples\n",
    "    random_state=42\n",
    ")\n",
    "\n",
    "#Combine back\n",
    "train_balanced = pd.concat([majority_downsampled, minority])\n",
    "train_balanced = train_balanced.sample(frac=1, random_state=42).reset_index(drop=True)\n",
    "\n",
    "# Set up x and y train balanced\n",
    "X_train_balanced = train_balanced.drop(columns=['target'])\n",
    "y_train_balanced = train_balanced['target']"
   ]
  },
  {
   "cell_type": "markdown",
   "id": "719e5386",
   "metadata": {},
   "source": [
    "In this code chunk, I set up X and y train, but balance the datasets so there are an equal number of correct and incorrectly called pitches so the model doesn't just predict pitches called correctly"
   ]
  },
  {
   "cell_type": "markdown",
   "id": "678e8871",
   "metadata": {},
   "source": [
    "### 2 Quantitive, One Qualitative"
   ]
  },
  {
   "cell_type": "code",
   "execution_count": null,
   "id": "a5f30236",
   "metadata": {},
   "outputs": [],
   "source": [
    "all_quant_cols = [  # only numerical features\n",
    "    'release_speed', 'release_pos_x', 'release_pos_z', 'zone', 'balls', 'strikes',\n",
    "    'pfx_x', 'pfx_z', 'plate_x', 'plate_z', 'outs_when_up', 'inning',\n",
    "    'vx0', 'vy0', 'vz0', 'ax', 'ay', 'az', 'release_spin_rate', 'release_extension',\n",
    "    'release_pos_y', 'at_bat_number', 'pitch_number', 'home_score', 'away_score', 'bat_score',\n",
    "    'fld_score', 'post_away_score', 'post_home_scorae', 'post_bat_score',\n",
    "    'post_fld_score', 'spin_axis', 'delta_home_win_exp', 'has_event'\n",
    "]\n",
    "\n",
    "all_qual_cols = [\n",
    "    'pitch_type', 'game_date', 'player_name', 'events', 'description', 'des', 'game_type',\n",
    " 'stand', 'p_throws', 'home_team', 'away_team', 'type', 'inning_topbot', 'pitch_name',\n",
    " 'if_fielding_alignment', 'of_fielding_alignment', 'count', 'PBhand', 'pitch_cat', \n",
    " 'batter_fullName', 'batSide', 'batter_birthCountry', 'strike_zone'\n",
    "]\n"
   ]
  },
  {
   "cell_type": "code",
   "execution_count": 83,
   "id": "13ad2d7d",
   "metadata": {},
   "outputs": [
    {
     "name": "stderr",
     "output_type": "stream",
     "text": [
      "Evaluating combinations:  70%|██████▉   | 8975/12903 [01:10<00:28, 135.93it/s]"
     ]
    },
    {
     "name": "stdout",
     "output_type": "stream",
     "text": [
      "\n",
      "✅ New best score: 0.5241 with features: ['release_speed', 'release_pos_x', 'count']\n",
      "\n",
      "✅ New best score: 0.5284 with features: ['release_speed', 'zone', 'count']\n",
      "\n",
      "✅ New best score: 0.5478 with features: ['release_speed', 'balls', 'count']\n"
     ]
    },
    {
     "name": "stderr",
     "output_type": "stream",
     "text": [
      "Evaluating combinations:  70%|██████▉   | 8999/12903 [01:11<02:10, 29.89it/s] "
     ]
    },
    {
     "name": "stdout",
     "output_type": "stream",
     "text": [
      "\n",
      "✅ New best score: 0.5505 with features: ['release_speed', 'pitch_number', 'count']\n"
     ]
    },
    {
     "name": "stderr",
     "output_type": "stream",
     "text": [
      "Evaluating combinations:  70%|███████   | 9076/12903 [01:15<02:53, 22.07it/s]"
     ]
    },
    {
     "name": "stdout",
     "output_type": "stream",
     "text": [
      "\n",
      "✅ New best score: 0.5551 with features: ['zone', 'balls', 'count']\n"
     ]
    },
    {
     "name": "stderr",
     "output_type": "stream",
     "text": [
      "Evaluating combinations:  71%|███████   | 9134/12903 [01:18<02:41, 23.39it/s]"
     ]
    },
    {
     "name": "stdout",
     "output_type": "stream",
     "text": [
      "\n",
      "✅ New best score: 0.5594 with features: ['balls', 'has_event', 'count']\n"
     ]
    },
    {
     "name": "stderr",
     "output_type": "stream",
     "text": [
      "Evaluating combinations:  96%|█████████▌| 12387/12903 [01:59<00:14, 35.91it/s] "
     ]
    },
    {
     "name": "stdout",
     "output_type": "stream",
     "text": [
      "\n",
      "✅ New best score: 0.5724 with features: ['release_pos_x', 'strikes', 'strike_zone']\n"
     ]
    },
    {
     "name": "stderr",
     "output_type": "stream",
     "text": [
      "Evaluating combinations:  97%|█████████▋| 12475/12903 [02:02<00:12, 35.38it/s]"
     ]
    },
    {
     "name": "stdout",
     "output_type": "stream",
     "text": [
      "\n",
      "✅ New best score: 0.5748 with features: ['balls', 'strikes', 'strike_zone']\n"
     ]
    },
    {
     "name": "stderr",
     "output_type": "stream",
     "text": [
      "Evaluating combinations:  97%|█████████▋| 12511/12903 [02:03<00:11, 34.85it/s]"
     ]
    },
    {
     "name": "stdout",
     "output_type": "stream",
     "text": [
      "\n",
      "✅ New best score: 0.5794 with features: ['strikes', 'vz0', 'strike_zone']\n"
     ]
    },
    {
     "name": "stderr",
     "output_type": "stream",
     "text": [
      "Evaluating combinations: 100%|██████████| 12903/12903 [02:22<00:00, 90.62it/s]\n"
     ]
    }
   ],
   "source": [
    "# two quant, one qual\n",
    "from itertools import combinations\n",
    "from sklearn.linear_model import LogisticRegression\n",
    "from tqdm import tqdm\n",
    "\n",
    "best_score = 0\n",
    "best_cols = []\n",
    "\n",
    "min_datapoints = 500\n",
    "# Total number of combinations\n",
    "total_combos = len(all_qual_cols) * len(list(combinations(all_quant_cols, 2)))\n",
    "\n",
    "# Initialize progress bar\n",
    "with tqdm(total=total_combos, desc=\"Evaluating combinations\") as pbar:\n",
    "    for qual in all_qual_cols:\n",
    "        for pair in combinations(all_quant_cols, 2): \n",
    "            cols = list(pair) + [qual]  # use just the current qualitative column\n",
    "            try:\n",
    "                # Drop rows with NaNs in selected columns only\n",
    "                X_sub = X_train_balanced[cols].dropna()\n",
    "                y_sub = y_train_balanced.loc[X_sub.index]\n",
    "\n",
    "                if len(X_sub) < min_datapoints:\n",
    "                    continue\n",
    "\n",
    "                LR = LogisticRegression()\n",
    "                LR.fit(X_sub, y_sub)\n",
    "                score = LR.score(X_sub, y_sub)\n",
    "\n",
    "                if score > best_score:\n",
    "                    best_score = score\n",
    "                    best_cols = cols\n",
    "                    print(f\"\\n✅ New best score: {best_score:.4f} with features: {best_cols}\")\n",
    "            except KeyError:\n",
    "                pass\n",
    "            except ValueError:\n",
    "                pass\n",
    "            finally:\n",
    "                pbar.update(1)"
   ]
  },
  {
   "cell_type": "code",
   "execution_count": 84,
   "id": "3ace68dc",
   "metadata": {},
   "outputs": [
    {
     "name": "stdout",
     "output_type": "stream",
     "text": [
      "['strikes', 'vz0', 'strike_zone']\n",
      "0.5793860372998845\n"
     ]
    }
   ],
   "source": [
    "print(best_cols)\n",
    "print(best_score)"
   ]
  },
  {
   "cell_type": "markdown",
   "id": "1b539f86",
   "metadata": {},
   "source": [
    "The best columns I find are pitch number, the total number of at pitches thrown in an at bat, delta_run_exp, the change in run expentency before and after the pitch, and strike zone, depicting if a pitch is called correctly or not."
   ]
  },
  {
   "cell_type": "code",
   "execution_count": 85,
   "id": "e49be4aa",
   "metadata": {},
   "outputs": [
    {
     "data": {
      "image/png": "[encoded data removed]",
      "text/plain": [
       "<Figure size 1500x500 with 3 Axes>"
      ]
     },
     "metadata": {},
     "output_type": "display_data"
    }
   ],
   "source": [
    "# visualizing model\n",
    "\n",
    "import matplotlib.pyplot as plt\n",
    "import seaborn as sns\n",
    "\n",
    "\n",
    "quant1, quant2, qual = best_cols  # Unpack\n",
    "\n",
    "# Set up the full dataframe\n",
    "plot_df = X_train_balanced[[quant1, quant2, qual]].copy()\n",
    "plot_df['target'] = y_train_balanced.values  # Add back the target\n",
    "\n",
    "# Unique categories in the qualitative variable\n",
    "categories = plot_df[qual].dropna().unique()\n",
    "\n",
    "# Set up subplots\n",
    "n_categories = len(categories)\n",
    "n_cols = 3\n",
    "n_rows = (n_categories + n_cols - 1) // n_cols  # rounds up\n",
    "fig, axes = plt.subplots(n_rows, n_cols, figsize=(n_cols*5, n_rows*5), squeeze=False)\n",
    "\n",
    "# Plot each category\n",
    "for idx, category in enumerate(categories):\n",
    "    row = idx // n_cols\n",
    "    col = idx % n_cols\n",
    "    ax = axes[row, col]\n",
    "\n",
    "    # Filter only this category\n",
    "    cat_df = plot_df[plot_df[qual] == category]\n",
    "\n",
    "    # Scatterplot\n",
    "    sns.scatterplot(\n",
    "        data=cat_df,\n",
    "        x=quant1,\n",
    "        y=quant2,\n",
    "        hue='target',\n",
    "        palette={0: 'red', 1: 'blue'},\n",
    "        ax=ax\n",
    "    )\n",
    "\n",
    "    ax.set_title(f\"{qual} = {category}\")\n",
    "    ax.legend(title=\"Correct Call\", loc='best')\n",
    "\n",
    "# Hide unused subplots\n",
    "for idx in range(len(categories), n_rows*n_cols):\n",
    "    row = idx // n_cols\n",
    "    col = idx % n_cols\n",
    "    axes[row][col].axis('off')\n",
    "\n",
    "plt.tight_layout()\n",
    "plt.show()\n"
   ]
  },
  {
   "cell_type": "markdown",
   "id": "f6c4d251",
   "metadata": {},
   "source": [
    "### 2 Qualitative, One Quantitative"
   ]
  },
  {
   "cell_type": "code",
   "execution_count": 86,
   "id": "1c7bc251",
   "metadata": {},
   "outputs": [
    {
     "name": "stderr",
     "output_type": "stream",
     "text": [
      "Evaluating combinations:   2%|▏         | 259/12903 [00:02<01:44, 121.06it/s]"
     ]
    },
    {
     "name": "stdout",
     "output_type": "stream",
     "text": [
      "\n",
      "✅ New best score: 0.5459 with features: ['count', 'strike_zone', 'release_speed']\n"
     ]
    },
    {
     "name": "stderr",
     "output_type": "stream",
     "text": [
      "Evaluating combinations:   4%|▍         | 516/12903 [00:04<01:24, 147.06it/s]"
     ]
    },
    {
     "name": "stdout",
     "output_type": "stream",
     "text": [
      "\n",
      "✅ New best score: 0.5462 with features: ['count', 'strike_zone', 'release_pos_x']\n"
     ]
    },
    {
     "name": "stderr",
     "output_type": "stream",
     "text": [
      "Evaluating combinations:  10%|▉         | 1270/12903 [00:09<01:33, 125.07it/s]"
     ]
    },
    {
     "name": "stdout",
     "output_type": "stream",
     "text": [
      "\n",
      "✅ New best score: 0.5748 with features: ['count', 'strike_zone', 'balls']\n"
     ]
    },
    {
     "name": "stderr",
     "output_type": "stream",
     "text": [
      "Evaluating combinations:  67%|██████▋   | 8602/12903 [01:05<00:32, 132.02it/s]\n"
     ]
    }
   ],
   "source": [
    "# two qual, one quant\n",
    "from itertools import combinations\n",
    "from sklearn.linear_model import LogisticRegression\n",
    "from tqdm import tqdm\n",
    "\n",
    "best_score = 0\n",
    "best_cols = []\n",
    "\n",
    "min_datapoints = 500\n",
    "# Total number of combinations\n",
    "total_combos = len(all_qual_cols) * len(list(combinations(all_quant_cols, 2)))\n",
    "\n",
    "# Initialize progress bar\n",
    "with tqdm(total=total_combos, desc=\"Evaluating combinations\") as pbar:\n",
    "    for quant in all_quant_cols:\n",
    "        for pair in combinations(all_qual_cols, 2): \n",
    "            cols = list(pair) + [quant]  # use just the current qualitative column\n",
    "            try:\n",
    "                # Drop rows with NaNs in selected columns only\n",
    "                X_sub = X_train_balanced[cols].dropna()\n",
    "                y_sub = y_train_balanced.loc[X_sub.index]\n",
    "\n",
    "                if len(X_sub) < min_datapoints:\n",
    "                    continue\n",
    "\n",
    "                LR = LogisticRegression()\n",
    "                LR.fit(X_sub, y_sub)\n",
    "                score = LR.score(X_sub, y_sub)\n",
    "\n",
    "                if score > best_score:\n",
    "                    best_score = score\n",
    "                    best_cols = cols\n",
    "                    print(f\"\\n✅ New best score: {best_score:.4f} with features: {best_cols}\")\n",
    "            except KeyError:\n",
    "                pass\n",
    "            except ValueError:\n",
    "                pass\n",
    "            finally:\n",
    "                pbar.update(1)"
   ]
  },
  {
   "cell_type": "markdown",
   "id": "68adb140",
   "metadata": {},
   "source": [
    "### Takeaways\n",
    "\n",
    "Both models don't have great accuracy in predicting what makes an umpire call pitches correctly and inccorectly. While the accuracy is slightly better than 50%, it isn't much, so we need to play around with using other models, perhaps some deep learning to continue to test this. These results could also mean that umps are just good at their jobs, and their missed calls happen at random times."
   ]
  },
  {
   "cell_type": "markdown",
   "id": "85888aa2",
   "metadata": {},
   "source": [
    "### Any 3"
   ]
  },
  {
   "cell_type": "code",
   "execution_count": 87,
   "id": "28e896b3",
   "metadata": {},
   "outputs": [],
   "source": [
    "all_quant_cols = [  # only numerical features\n",
    "    'zone', 'balls', 'strikes', 'outs_when_up', 'inning',\n",
    "    'at_bat_number', 'pitch_number', 'home_score', 'away_score', 'bat_score',\n",
    "    'fld_score', 'delta_home_win_exp', 'delta_run_exp', 'has_event'\n",
    "]\n",
    "\n",
    "all_qual_cols = [\n",
    "    'pitch_type', 'game_date', 'player_name', 'events', 'description', 'des', 'game_type',\n",
    " 'stand', 'p_throws', 'home_team', 'away_team', 'type', 'inning_topbot', 'pitch_name',\n",
    " 'if_fielding_alignment', 'of_fielding_alignment', 'count', 'PBhand', 'pitch_cat', \n",
    " 'batter_fullName', 'batSide', 'batter_birthCountry', 'strike_zone'\n",
    "]"
   ]
  },
  {
   "cell_type": "code",
   "execution_count": null,
   "id": "7ea56fca",
   "metadata": {},
   "outputs": [
    {
     "name": "stderr",
     "output_type": "stream",
     "text": [
      "Evaluating 3-feature combinations:   0%|          | 5/7770 [00:00<05:44, 22.57it/s]"
     ]
    },
    {
     "name": "stdout",
     "output_type": "stream",
     "text": [
      "\n",
      "✅ New best score: 0.5551 with features: ('zone', 'balls', 'strikes')\n"
     ]
    },
    {
     "name": "stderr",
     "output_type": "stream",
     "text": [
      "Evaluating 3-feature combinations:   0%|          | 15/7770 [00:00<04:53, 26.42it/s]"
     ]
    },
    {
     "name": "stdout",
     "output_type": "stream",
     "text": [
      "\n",
      "✅ New best score: 0.6616 with features: ('zone', 'balls', 'delta_run_exp')\n"
     ]
    },
    {
     "name": "stderr",
     "output_type": "stream",
     "text": [
      "Evaluating 3-feature combinations:   1%|          | 60/7770 [00:01<02:08, 60.13it/s]"
     ]
    },
    {
     "name": "stdout",
     "output_type": "stream",
     "text": [
      "\n",
      "✅ New best score: 0.7130 with features: ('zone', 'strikes', 'delta_run_exp')\n"
     ]
    },
    {
     "name": "stderr",
     "output_type": "stream",
     "text": [
      "Evaluating 3-feature combinations:  12%|█▏        | 970/7770 [00:11<01:01, 110.96it/s]"
     ]
    },
    {
     "name": "stdout",
     "output_type": "stream",
     "text": [
      "\n",
      "✅ New best score: 0.7142 with features: ('balls', 'delta_run_exp', 'strike_zone')\n"
     ]
    },
    {
     "name": "stderr",
     "output_type": "stream",
     "text": [
      "Evaluating 3-feature combinations:  20%|█▉        | 1530/7770 [00:16<00:55, 111.85it/s]"
     ]
    },
    {
     "name": "stdout",
     "output_type": "stream",
     "text": [
      "\n",
      "✅ New best score: 0.7281 with features: ('strikes', 'delta_run_exp', 'strike_zone')\n"
     ]
    },
    {
     "name": "stderr",
     "output_type": "stream",
     "text": [
      "Evaluating 3-feature combinations:  26%|██▋       | 2055/7770 [00:21<01:09, 82.50it/s] "
     ]
    },
    {
     "name": "stdout",
     "output_type": "stream",
     "text": [
      "\n",
      "✅ New best score: 0.7399 with features: ('outs_when_up', 'delta_run_exp', 'strike_zone')\n"
     ]
    },
    {
     "name": "stderr",
     "output_type": "stream",
     "text": [
      "Evaluating 3-feature combinations:  44%|████▍     | 3442/7770 [00:38<01:16, 56.87it/s] "
     ]
    },
    {
     "name": "stdout",
     "output_type": "stream",
     "text": [
      "\n",
      "✅ New best score: 0.7505 with features: ('pitch_number', 'delta_run_exp', 'strike_zone')\n"
     ]
    },
    {
     "name": "stderr",
     "output_type": "stream",
     "text": [
      "Evaluating 3-feature combinations: 100%|██████████| 7770/7770 [01:09<00:00, 111.68it/s]"
     ]
    },
    {
     "name": "stdout",
     "output_type": "stream",
     "text": [
      "\n",
      "🎯 Best 3-feature combination: ('pitch_number', 'delta_run_exp', 'strike_zone') with score 0.7505\n"
     ]
    },
    {
     "name": "stderr",
     "output_type": "stream",
     "text": [
      "\n"
     ]
    }
   ],
   "source": [
    "\n",
    "from itertools import combinations\n",
    "from sklearn.linear_model import LogisticRegression\n",
    "from tqdm import tqdm\n",
    "\n",
    "best_score = 0\n",
    "best_cols = []\n",
    "\n",
    "min_datapoints = 500\n",
    "\n",
    "all_cols = all_quant_cols+ all_qual_cols  #Merge all features\n",
    "combos = list(combinations(all_cols, 3))   # All 3-feature combinations\n",
    "total_combos = len(combos)\n",
    "\n",
    "with tqdm(total=total_combos, desc=\"Evaluating 3-feature combinations\") as pbar:\n",
    "    for cols in combos:\n",
    "        try:\n",
    "            # Drop rows with NaNs in selected columns only\n",
    "            X_sub =X_train_balanced[list(cols)].dropna()\n",
    "            y_sub = y_train_balanced.loc[X_sub.index]\n",
    "\n",
    "            if len(X_sub) < min_datapoints:\n",
    "                pbar.update(1)\n",
    "                continue\n",
    "\n",
    "            LR = LogisticRegression()\n",
    "            LR.fit(X_sub,  y_sub)\n",
    "            score = LR.score(X_sub, y_sub)\n",
    "\n",
    "            if score > best_score:\n",
    "                best_score =  score\n",
    "                best_cols = cols\n",
    "                print(f\"\\n✅ New best score: {best_score:.4f} with features: {best_cols}\")\n",
    "        except (KeyError, ValueError):\n",
    "            pass\n",
    "        finally:\n",
    "            pbar.update(1)\n",
    "\n",
    "print(f\"\\n Best 3-feature combination: {best_cols} with score {best_score:.4f}\")"
   ]
  },
  {
   "cell_type": "code",
   "execution_count": 99,
   "id": "8af58234",
   "metadata": {},
   "outputs": [
    {
     "data": {
      "image/png": "[encoded data removed]",
      "text/plain": [
       "<Figure size 1500x500 with 3 Axes>"
      ]
     },
     "metadata": {},
     "output_type": "display_data"
    }
   ],
   "source": [
    "# visualizing model\n",
    "\n",
    "import matplotlib.pyplot as plt\n",
    "import seaborn as sns\n",
    "\n",
    "\n",
    "quant1, quant2, qual = best_cols  # Unpack\n",
    "\n",
    "# Set up the full dataframe\n",
    "plot_df = X_train_balanced[[quant1, quant2, qual]].copy()\n",
    "plot_df['target'] = y_train_balanced.values  # Add back the target\n",
    "\n",
    "# Unique categories in the qualitative variable\n",
    "categories = plot_df[qual].dropna().unique()\n",
    "\n",
    "# Set up subplots\n",
    "n_categories = len(categories)\n",
    "n_cols = 3\n",
    "n_rows = (n_categories + n_cols - 1) // n_cols  # rounds up\n",
    "fig, axes = plt.subplots(n_rows, n_cols, figsize=(n_cols*5, n_rows*5), squeeze=False)\n",
    "\n",
    "# Plot each category\n",
    "for idx, category in enumerate(categories):\n",
    "    row = idx // n_cols\n",
    "    col = idx % n_cols\n",
    "    ax = axes[row, col]\n",
    "\n",
    "    # Filter only this category\n",
    "    cat_df = plot_df[plot_df[qual] == category]\n",
    "\n",
    "    # Scatterplot\n",
    "    sns.scatterplot(\n",
    "        data=cat_df,\n",
    "        x=quant1,\n",
    "        y=quant2,\n",
    "        hue='target',\n",
    "        palette={0: 'red', 1: 'blue'},\n",
    "        ax=ax\n",
    "    )\n",
    "\n",
    "    ax.set_title(f\"{qual} = {category}\")\n",
    "    ax.legend(title=\"Correct Call\", loc='best')\n",
    "\n",
    "# Hide unused subplots\n",
    "for idx in range(len(categories), n_rows*n_cols):\n",
    "    row = idx // n_cols\n",
    "    col = idx % n_cols\n",
    "    axes[row][col].axis('off')\n",
    "\n",
    "plt.tight_layout()\n",
    "plt.show()\n"
   ]
  },
  {
   "cell_type": "markdown",
   "id": "39df1f06",
   "metadata": {},
   "source": [
    "Delta_run_exp = % increase/decrease of scoring a run in a given inning. If the ball is not in the strike zone and it is called a strike, the chance of winning increases, and vise versa. This is a false positive through reverse causality. The delta_run_exp is effected by the umpires call, not the other way around, so therefore, this is not a good feature to use. "
   ]
  },
  {
   "cell_type": "markdown",
   "id": "8c7af7a4",
   "metadata": {},
   "source": [
    "## Full LR model"
   ]
  },
  {
   "cell_type": "code",
   "execution_count": 103,
   "id": "36dbb3c5",
   "metadata": {},
   "outputs": [
    {
     "data": {
      "text/html": [
       "<div>\n",
       "<style scoped>\n",
       "    .dataframe tbody tr th:only-of-type {\n",
       "        vertical-align: middle;\n",
       "    }\n",
       "\n",
       "    .dataframe tbody tr th {\n",
       "        vertical-align: top;\n",
       "    }\n",
       "\n",
       "    .dataframe thead th {\n",
       "        text-align: right;\n",
       "    }\n",
       "</style>\n",
       "<table border=\"1\" class=\"dataframe\">\n",
       "  <thead>\n",
       "    <tr style=\"text-align: right;\">\n",
       "      <th></th>\n",
       "      <th>Unnamed: 0</th>\n",
       "      <th>pitch_type</th>\n",
       "      <th>game_date</th>\n",
       "      <th>release_speed</th>\n",
       "      <th>release_pos_x</th>\n",
       "      <th>release_pos_z</th>\n",
       "      <th>player_name</th>\n",
       "      <th>batter</th>\n",
       "      <th>pitcher</th>\n",
       "      <th>events</th>\n",
       "      <th>...</th>\n",
       "      <th>delta_home_win_exp</th>\n",
       "      <th>delta_run_exp</th>\n",
       "      <th>count</th>\n",
       "      <th>PBhand</th>\n",
       "      <th>pitch_cat</th>\n",
       "      <th>batter_fullName</th>\n",
       "      <th>batSide</th>\n",
       "      <th>batter_birthCountry</th>\n",
       "      <th>strike_zone</th>\n",
       "      <th>has_event</th>\n",
       "    </tr>\n",
       "  </thead>\n",
       "  <tbody>\n",
       "    <tr>\n",
       "      <th>49340</th>\n",
       "      <td>451660</td>\n",
       "      <td>SL</td>\n",
       "      <td>2021-07-29</td>\n",
       "      <td>84.8</td>\n",
       "      <td>-1.70</td>\n",
       "      <td>5.95</td>\n",
       "      <td>Stratton, Chris</td>\n",
       "      <td>642715</td>\n",
       "      <td>608717</td>\n",
       "      <td>NaN</td>\n",
       "      <td>...</td>\n",
       "      <td>0.0</td>\n",
       "      <td>-0.038</td>\n",
       "      <td>0_0</td>\n",
       "      <td>bRpR</td>\n",
       "      <td>breaking</td>\n",
       "      <td>Willy Adames</td>\n",
       "      <td>R</td>\n",
       "      <td>Dominican Republic</td>\n",
       "      <td>False</td>\n",
       "      <td>0</td>\n",
       "    </tr>\n",
       "    <tr>\n",
       "      <th>22319</th>\n",
       "      <td>381799</td>\n",
       "      <td>CH</td>\n",
       "      <td>2021-07-16</td>\n",
       "      <td>76.5</td>\n",
       "      <td>-2.21</td>\n",
       "      <td>4.81</td>\n",
       "      <td>Valdez, César</td>\n",
       "      <td>643217</td>\n",
       "      <td>491624</td>\n",
       "      <td>NaN</td>\n",
       "      <td>...</td>\n",
       "      <td>0.0</td>\n",
       "      <td>-0.053</td>\n",
       "      <td>2_1</td>\n",
       "      <td>bLpR</td>\n",
       "      <td>offspeed</td>\n",
       "      <td>Andrew Benintendi</td>\n",
       "      <td>L</td>\n",
       "      <td>USA</td>\n",
       "      <td>False</td>\n",
       "      <td>0</td>\n",
       "    </tr>\n",
       "    <tr>\n",
       "      <th>22571</th>\n",
       "      <td>123260</td>\n",
       "      <td>CH</td>\n",
       "      <td>2021-08-15</td>\n",
       "      <td>83.8</td>\n",
       "      <td>3.13</td>\n",
       "      <td>6.21</td>\n",
       "      <td>Suter, Brent</td>\n",
       "      <td>596056</td>\n",
       "      <td>608718</td>\n",
       "      <td>NaN</td>\n",
       "      <td>...</td>\n",
       "      <td>0.0</td>\n",
       "      <td>0.071</td>\n",
       "      <td>2_2</td>\n",
       "      <td>bRpL</td>\n",
       "      <td>offspeed</td>\n",
       "      <td>John Nogowski</td>\n",
       "      <td>R</td>\n",
       "      <td>USA</td>\n",
       "      <td>False</td>\n",
       "      <td>0</td>\n",
       "    </tr>\n",
       "    <tr>\n",
       "      <th>21944</th>\n",
       "      <td>91926</td>\n",
       "      <td>FF</td>\n",
       "      <td>2021-04-17</td>\n",
       "      <td>83.8</td>\n",
       "      <td>2.73</td>\n",
       "      <td>6.10</td>\n",
       "      <td>Milone, Tommy</td>\n",
       "      <td>502481</td>\n",
       "      <td>543548</td>\n",
       "      <td>NaN</td>\n",
       "      <td>...</td>\n",
       "      <td>0.0</td>\n",
       "      <td>0.038</td>\n",
       "      <td>0_0</td>\n",
       "      <td>bLpL</td>\n",
       "      <td>fastball</td>\n",
       "      <td>Jarrod Dyson</td>\n",
       "      <td>L</td>\n",
       "      <td>USA</td>\n",
       "      <td>True</td>\n",
       "      <td>0</td>\n",
       "    </tr>\n",
       "    <tr>\n",
       "      <th>56897</th>\n",
       "      <td>626154</td>\n",
       "      <td>FF</td>\n",
       "      <td>2021-05-06</td>\n",
       "      <td>92.5</td>\n",
       "      <td>-1.69</td>\n",
       "      <td>5.76</td>\n",
       "      <td>Turnbull, Spencer</td>\n",
       "      <td>646240</td>\n",
       "      <td>605513</td>\n",
       "      <td>NaN</td>\n",
       "      <td>...</td>\n",
       "      <td>0.0</td>\n",
       "      <td>-0.074</td>\n",
       "      <td>0_0</td>\n",
       "      <td>bLpR</td>\n",
       "      <td>fastball</td>\n",
       "      <td>Rafael Devers</td>\n",
       "      <td>L</td>\n",
       "      <td>Dominican Republic</td>\n",
       "      <td>True</td>\n",
       "      <td>0</td>\n",
       "    </tr>\n",
       "  </tbody>\n",
       "</table>\n",
       "<p>5 rows × 101 columns</p>\n",
       "</div>"
      ],
      "text/plain": [
       "       Unnamed: 0 pitch_type   game_date  release_speed  release_pos_x  \\\n",
       "49340      451660         SL  2021-07-29           84.8          -1.70   \n",
       "22319      381799         CH  2021-07-16           76.5          -2.21   \n",
       "22571      123260         CH  2021-08-15           83.8           3.13   \n",
       "21944       91926         FF  2021-04-17           83.8           2.73   \n",
       "56897      626154         FF  2021-05-06           92.5          -1.69   \n",
       "\n",
       "       release_pos_z        player_name  batter  pitcher events  ...  \\\n",
       "49340           5.95    Stratton, Chris  642715   608717    NaN  ...   \n",
       "22319           4.81      Valdez, César  643217   491624    NaN  ...   \n",
       "22571           6.21       Suter, Brent  596056   608718    NaN  ...   \n",
       "21944           6.10      Milone, Tommy  502481   543548    NaN  ...   \n",
       "56897           5.76  Turnbull, Spencer  646240   605513    NaN  ...   \n",
       "\n",
       "      delta_home_win_exp  delta_run_exp  count  PBhand  pitch_cat  \\\n",
       "49340                0.0         -0.038    0_0    bRpR   breaking   \n",
       "22319                0.0         -0.053    2_1    bLpR   offspeed   \n",
       "22571                0.0          0.071    2_2    bRpL   offspeed   \n",
       "21944                0.0          0.038    0_0    bLpL   fastball   \n",
       "56897                0.0         -0.074    0_0    bLpR   fastball   \n",
       "\n",
       "         batter_fullName batSide batter_birthCountry strike_zone has_event  \n",
       "49340       Willy Adames       R  Dominican Republic       False         0  \n",
       "22319  Andrew Benintendi       L                 USA       False         0  \n",
       "22571      John Nogowski       R                 USA       False         0  \n",
       "21944       Jarrod Dyson       L                 USA        True         0  \n",
       "56897      Rafael Devers       L  Dominican Republic        True         0  \n",
       "\n",
       "[5 rows x 101 columns]"
      ]
     },
     "execution_count": 103,
     "metadata": {},
     "output_type": "execute_result"
    }
   ],
   "source": [
    "from sklearn.model_selection import train_test_split\n",
    "from sklearn.utils import resample\n",
    "\n",
    "y = pitches_not_hit[\"called_correctly\"]\n",
    "X= pitches_not_hit.drop([\"called_correctly\"], axis= 1)\n",
    "\n",
    "\n",
    "# Combining into a new df\n",
    "X_df = X.copy()\n",
    "X_df['target'] = y\n",
    "\n",
    "# Split into correct/incorrect\n",
    "majority = X_df[X_df['target'] == 1]  # Correct calls\n",
    "minority = X_df[X_df['target'] == 0]  # Incorrect calls\n",
    "\n",
    "# Downsample majority\n",
    "majority_downsampled = resample(\n",
    "    majority,\n",
    "    replace=False,# No replacement\n",
    "    n_samples=len(minority),# Match number of minority examples\n",
    "    random_state=42\n",
    ")\n",
    "\n",
    "#Combine back\n",
    "balanced = pd.concat([majority_downsampled, minority])\n",
    "balanced = balanced.sample(frac=1, random_state=42).reset_index(drop=True)\n",
    "\n",
    "# Set up x and y train balanced\n",
    "X_balanced = balanced.drop(columns=['target'])\n",
    "y_balanced = balanced['target']\n",
    "\n",
    "X_train, X_test, y_train, y_test = train_test_split(X_balanced, y_balanced)\n",
    "X_train.head()"
   ]
  },
  {
   "cell_type": "code",
   "execution_count": null,
   "id": "5126bcda",
   "metadata": {},
   "outputs": [],
   "source": [
    "all_quant_cols = [  # only numerical features, took out delta_win_exp\n",
    "    'release_speed', 'release_pos_x', 'release_pos_z', 'zone', 'balls', 'strikes',\n",
    "    'pfx_x', 'pfx_z', 'plate_x', 'plate_z', 'outs_when_up', 'inning',\n",
    "    'vx0', 'vy0', 'vz0', 'ax', 'ay', 'az', 'release_spin_rate', 'release_extension',\n",
    "    'release_pos_y', 'at_bat_number', 'pitch_number', 'home_score', 'away_score', 'bat_score',\n",
    "    'fld_score', 'post_away_score', 'post_home_score', 'post_bat_score',\n",
    "    'post_fld_score', 'spin_axis', 'delta_home_win_exp', 'has_event'\n",
    "]\n",
    "\n",
    "all_qual_cols = [\n",
    "    'pitch_type', 'game_date', 'player_name', 'events', 'description', 'des', 'game_type',\n",
    " 'stand', 'p_throws', 'home_team', 'away_team', 'type', 'inning_topbot', 'pitch_name',\n",
    " 'if_fielding_alignment', 'of_fielding_alignment', 'count', 'PBhand', 'pitch_cat', \n",
    " 'batter_fullName', 'batSide', 'batter_birthCountry', 'strike_zone'\n",
    "]\n"
   ]
  },
  {
   "cell_type": "markdown",
   "id": "a342aad4",
   "metadata": {},
   "source": [
    "I use the one-hot-encoder in the model to pre-process the data for all the qualitative columns."
   ]
  },
  {
   "cell_type": "code",
   "execution_count": null,
   "id": "981d84d7",
   "metadata": {},
   "outputs": [
    {
     "name": "stdout",
     "output_type": "stream",
     "text": [
      "✅ Training Accuracy: 0.7231\n",
      "🧪 Test Accuracy: 0.7243\n"
     ]
    },
    {
     "name": "stderr",
     "output_type": "stream",
     "text": [
      "/opt/anaconda3/envs/ml-0451/lib/python3.9/site-packages/sklearn/linear_model/_logistic.py:465: ConvergenceWarning: lbfgs failed to converge (status=1):\n",
      "STOP: TOTAL NO. of ITERATIONS REACHED LIMIT.\n",
      "\n",
      "Increase the number of iterations (max_iter) or scale the data as shown in:\n",
      "    https://scikit-learn.org/stable/modules/preprocessing.html\n",
      "Please also refer to the documentation for alternative solver options:\n",
      "    https://scikit-learn.org/stable/modules/linear_model.html#logistic-regression\n",
      "  n_iter_i = _check_optimize_result(\n"
     ]
    }
   ],
   "source": [
    "from sklearn.linear_model import LogisticRegression\n",
    "from sklearn.pipeline import Pipeline\n",
    "from sklearn.compose import ColumnTransformer\n",
    "from sklearn.preprocessing import OneHotEncoder\n",
    "from sklearn.impute import SimpleImputer\n",
    "from sklearn.metrics import accuracy_score\n",
    "\n",
    "qual_cols = all_qual_cols\n",
    "quant_cols = all_quant_cols \n",
    "\n",
    "#preprocessing for numeric and categorical columns\n",
    "preprocessor = ColumnTransformer(\n",
    "    transformers=[\n",
    "        ('num', SimpleImputer(strategy='mean'), quant_cols),\n",
    "        ('cat', Pipeline([\n",
    "            ('imputer', SimpleImputer(strategy= 'most_frequent')),\n",
    "            ('encoder', OneHotEncoder(handle_unknown= 'ignore'))]), qual_cols)\n",
    "    ]\n",
    ")\n",
    "\n",
    "# Combine preprocessor with a logistic regression model\n",
    "clf = Pipeline(steps=[\n",
    "    ('preprocessor', preprocessor),\n",
    "    ('classifier', LogisticRegression(max_iter=1000))])\n",
    "\n",
    "#Cleaning out rows with NaNs and re-fitting y to match\n",
    "X_train_clean = X_train[quant_cols+ qual_cols].dropna() # so we don't have NA errors\n",
    "y_train_clean = y_train.loc[X_train_clean.index]\n",
    "\n",
    "X_test_clean = X_test[quant_cols + qual_cols].dropna()\n",
    "y_test_clean = y_test.loc[X_test_clean.index]\n",
    "\n",
    "# fit model on training set\n",
    "clf.fit(X_train_clean, y_train_clean) \n",
    "\n",
    "# Evaluate on both training and test sets\n",
    "train_score = accuracy_score(y_train_clean, clf.predict(X_train_clean))\n",
    "test_score = accuracy_score(y_test_clean, clf.predict(X_test_clean))\n",
    "\n",
    "print(f\" Training Accuracy: {train_score:.4f}\")\n",
    "print(f\"✅ Test Accuracy: {test_score:.4f}\")"
   ]
  },
  {
   "cell_type": "markdown",
   "id": "dfc21fd8",
   "metadata": {},
   "source": [
    "Now, evaluating the model on all features, we see a testing and training accuracy of around 72%, which is pretty solid. This is higher than any of the models where we only selected a handful of features. I would be impressed if we could do better because that would mean that there are certain features that umpires are biased towards. The next step is to look at which features have the biggest values."
   ]
  },
  {
   "cell_type": "code",
   "execution_count": null,
   "id": "d4d2a5c1",
   "metadata": {},
   "outputs": [],
   "source": [
    "\n",
    "# Get the ecoded column names\n",
    "ohe = clf.named_steps['preprocessor'].named_transformers_['cat'].named_steps['encoder']\n",
    "ohe_feature_names = ohe.get_feature_names_out(qual_cols)\n",
    "\n",
    "#combine numeric and encoded categorical feature names\n",
    "feature_names = quant_cols + list(ohe_feature_names)\n",
    "\n",
    "# Collect matching coefficents\n",
    "coefficients = clf.named_steps['classifier'].coef_[0]\n"
   ]
  },
  {
   "cell_type": "markdown",
   "id": "1f669912",
   "metadata": {},
   "source": [
    "In this code chunk, I create two lists, one of the feature names and one of the coefficients, with matching indices so i can graph it."
   ]
  },
  {
   "cell_type": "code",
   "execution_count": null,
   "id": "9a3cb718",
   "metadata": {},
   "outputs": [
    {
     "name": "stderr",
     "output_type": "stream",
     "text": [
      "/var/folders/gx/d6zl9l4908q7p_vk4j3x06x00000gn/T/ipykernel_15571/2631561154.py:17: FutureWarning: \n",
      "\n",
      "Passing `palette` without assigning `hue` is deprecated and will be removed in v0.14.0. Assign the `y` variable to `hue` and set `legend=False` for the same effect.\n",
      "\n",
      "  sns.barplot(x='Weight', y='Feature', data=coef_df_sorted, palette='coolwarm')\n"
     ]
    },
    {
     "data": {
      "image/png": "[encoded data removed]",
      "text/plain": [
       "<Figure size 1200x800 with 1 Axes>"
      ]
     },
     "metadata": {},
     "output_type": "display_data"
    }
   ],
   "source": [
    "import pandas as pd\n",
    "import matplotlib.pyplot as plt\n",
    "import seaborn as sns\n",
    "\n",
    "# Put coefficients into a DataFrame\n",
    "coef_df = pd.DataFrame({\n",
    "    'Feature': feature_names,\n",
    "    'Weight': coefficients})\n",
    "\n",
    "# Sort by absolute weight\n",
    "coef_df['abs_weight'] = coef_df['Weight'].abs()\n",
    "coef_df_sorted = coef_df.sort_values(by='abs_weight', ascending=False).head(30)  # top 30 most important\n",
    "\n",
    "#Plot\n",
    "plt.figure(figsize=(12, 8))\n",
    "sns.barplot(x='Weight', y='Feature', data=coef_df_sorted, palette='coolwarm')\n",
    "plt.title('Top 30 Logistic Regression Feature Weights')\n",
    "plt.xlabel('Coefficient Weight')\n",
    "plt.ylabel('Feature')\n",
    "plt.tight_layout()\n",
    "plt.show()"
   ]
  },
  {
   "cell_type": "markdown",
   "id": "0c3c29ed",
   "metadata": {},
   "source": [
    "This graph visualizes the top 30 features with the highest weights. The most important is strike zone, but digging into the list we can see there are some suprising features we wouldn't expect to have an impact, like some home/away teams and that players from the DR bring down the probablity of a pitch called correctly while players in the USA bring it up."
   ]
  }
 ],
 "metadata": {
  "kernelspec": {
   "display_name": "ml-0451",
   "language": "python",
   "name": "python3"
  },
  "language_info": {
   "codemirror_mode": {
    "name": "ipython",
    "version": 3
   },
   "file_extension": ".py",
   "mimetype": "text/x-python",
   "name": "python",
   "nbconvert_exporter": "python",
   "pygments_lexer": "ipython3",
   "version": "3.9.21"
  }
 },
 "nbformat": 4,
 "nbformat_minor": 5
}
