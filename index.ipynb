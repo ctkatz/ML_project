{
 "cells": [
  {
   "cell_type": "raw",
   "metadata": {
    "vscode": {
     "languageId": "raw"
    }
   },
   "source": [
    "---\n",
    "title: Final Project: Predicting MLB Pitch Calls\n",
    "author: Carly McAdam, Chloe Katz, Ryan Mauney\n",
    "date: '2025-05-12'\n",
<<<<<<< Updated upstream
    "description: \"CSCI 0451 Final Project\"\n",
=======
    "image: \"umpire_photo.png\"\n",
    "description: \"CSCI 0451 final project\"\n",
>>>>>>> Stashed changes
    "bibliography: refs.bib\n",
    "format: html\n",
    "---"
   ]
  },
  {
   "cell_type": "markdown",
   "metadata": {},
   "source": [
    "### Abstract"
   ]
  },
  {
   "cell_type": "markdown",
   "metadata": {},
   "source": [
    "In our project, we sought to predict whether umpires will call a pitch correctly or not. We used features of the pitch like its velocity and release position and features of the game situation like number of runners on base, pitch count, and inning to train a logistic regression model. We chose these features because we wanted to look for patterns in pitch calls that weren't related to where the pitch ended up over the plate. We fit a logistic regression model.... [add results here!]\n",
    "\n",
    "\n",
    "[Find the source code here](https://github.com/ctkatz/ML_project)"
   ]
  },
  {
   "cell_type": "markdown",
   "metadata": {},
   "source": [
    "### Introduction"
   ]
  },
  {
   "cell_type": "markdown",
   "metadata": {},
   "source": [
    "The problem that we want to address in the project is improving fairness in baseball. We want to see if we can detect patterns in incorrect calls to highlight bias towards or against certain \n",
    "player demographics, game situations, or pitch types. This information could help teams understand when pitchers need to be more precise with their pitch locations and help umpires focus on calling pitches extra carefully during situations when they have been found to be less consistent. We hypothesize that there may be other factors impacting an umpires' decision to call a strike besides just the location of the pitch when it arrives over the plate. \n",
    "\n",
    "Statistics are an essential part of modern day baseball, and all MLB teams have extensive infrastructure in data analytics. Furthermore, because the MLB statistics are publicly available, there are many people using statistical and machine learning methods to make predictions about baseball pitches. Specifically, there has been a lot of work in using classification methods to predict pitch types. Glenn Sidle and Hien Tran, for example, used different multi-class classification methods to predict pitch types (@predictpitchtypes). They used post-processing techniques, like ranking the permuted variable delta error of each feature that was calculated in the construction of their random forest, to investigate the importance of each of the features they used. They found pitch count and batter handedness to be some of the most important features. Even though they were asking a different question than we are, it was still useful to see which features impact the pitch type the most, because these features could also impact the umpire calling the pitch. Or, if if pitch type impacts call correctness, these features would also be important. Additionally, they used categorical features like number of outs, inning, score, and time of day in their model, which helped us figure out how we might also want to use features like these in our model. \n",
    "\n",
    "In another paper that we looked at, Jasmine Barbee was predicting the final pitch outcome for an at-bat (@predictfinaloutcome). That is, whether the last pitch of the at bat was a strike (strikeout), a ball (walk), put in play but an out, or a hit. Barbee did some exploration into features like pitch speed and she was able to predict with reasonable accuracy the outcome of the final pitch using the pitch count, the horizontal and vertical pitch locations, and the start and end speeds of the pitch. Her process highlighted how these features can be used in conjunction with each other to learn information about a pitch without knowing its position over the plate. When we decided which features to use for our model, we used insights we had gained from other peoples' work in classifying pitches. \n",
    "\n",
    "Futhermore, we also looked at some work that was aiming to answer a question similar to the one that we are. Etan Green and David Daniels at Stanford found that when the pitch count is 3-0 the strike zone expands, and when the pitch count is 0-2, the strike zone contracts (@umpirebias). We found these results to support our hypothesis that umpires might not call strikes based soley on the location of the pitch, there may be other factors at play. This paper also prompted us to include the pitch count as a feature in our model. We found that most of these papers, even if they didn't have the exact same research question that we did, mentioned similar motivations in their work that we have: making the game more fair and helping teams optimize their pitching capabilities to put them in a better position in a game.   \n"
   ]
  },
  {
   "cell_type": "markdown",
   "metadata": {},
   "source": [
    "### Values Statement"
   ]
  },
  {
   "cell_type": "markdown",
   "metadata": {},
   "source": [
    "This project would potentially be used by MLB teams and umpires. These teams are probably interested in understanding patterns in when pitches are likely to be called incorrectly, and umpires might be interesting in improving their call accuracy with this technology. [include something about potential results of looking for racial bias maybe]. \n",
    "\n",
    "\n",
    "This model could help improve baseball by potentially helping umpires learn patterns in when they are calling pitches incorrectly and improving accuracy. It could benefit players and teams because they could gain a better understanding of situations when pitches are less likely to be called correctly. If they're aware of these situations, they can try to avoid them. \n",
    "\n",
    "\n",
    "But, the ability for a model to find these patterns could potentially take away jobs from umpires in the long run. Automatic ball strike systems (electronic systems that use the ball position to call pitches instead of umpires) are already being used in minor league baseball. If technology is able to detect that umpires call pitches incorrectly with regularity, this may support the argument to replace home plate umpires with machines. \n",
    "\n",
    "\n",
    "Personally, all of our group members are big baseball fans. One of our favorite things about the game is how important statistics have become in baseball and how much analytical work is done to improve teams' performances. We were all really excited about the opportunity to work with baseball statistics and we think that this technology could, in theory, make baseball more equitable. Even though this work isn't necessarily improving the world as a whole, a lot of people care about baseball and making the game more fair might improve teams and fans' experiences with the game. "
   ]
  },
  {
   "cell_type": "markdown",
   "metadata": {},
   "source": [
    "### Materials and Methods"
   ]
  },
  {
   "cell_type": "markdown",
   "metadata": {},
   "source": [
    "#### Our Data\n",
    "The data used in this project comes from Major League Baseball (MLB) pitch tracking data, which records information about pitches thrown during games. The data was collected from publicly available sources, specifically MLB’s official pitch tracking systems and data repositories. Each row in the dataset represents a single pitch thrown by a pitcher, including features such as pitch type, velocity, location, the batter's handedness (left or right), the umpire’s call (strike or ball), and whether the call was correct. The data also includes metadata about the game, the batter, and the pitcher. The dataset was downloaded from Kaggle. \n",
    "\n",
    "The primary focus of the our analysis was to determine bias which affects whether the umpire will make the correct call on a pitch, with additional breakdowns by batter handedness (left vs. right) and call tyep (strikes vs balls). The data was processed to handle missing values, standardize features, and generate additional variables like whether a pitch was on the edge of the strike zone. One potential limitation of the data is its inherent bias due to how pitch tracking systems are calibrated in different ballparks, which may affect accuracy. Additionally, the data does not account for environmental variables (such as lighting conditions or weather) that may influence umpire decisions. Since only pitches that were not hit are included in the analysis, the model may lack generalizability to situations where the batter makes contact."
   ]
  },
  {
   "cell_type": "markdown",
   "metadata": {},
   "source": [
<<<<<<< Updated upstream
    "#### Our Approach\n",
    "The analysis focused on evaluating the accuracy of umpire calls in Major League Baseball (MLB) games using two logistic regression models: a standard Scikit-Learn Logistic Regression model and a Custom Logistic Regression with Newton's Method. The primary features used as predictors included key pitch characteristics such as type, velocity, and horizontal and vertical position at the plate, along with batter attributes like handedness (left or right), and game context including pitch count, inning, and game situation; importantly, in the first iterations of the models information surrounding where the pitch ended up around the plate was excluded and was later added back in for ptiches close to the edge of the strike zone. The target variable for prediction was whether the umpire’s call was correct, represented as a binary outcome (correct or incorrect).\n",
    "\n",
    "Data preprocessing involved handling missing values by filling them with zeros, standardizing numerical features, and encoding categorical variables. To assess specific biases and performance differences, the dataset was further divided into subgroups, including Left-Handed vs. Right-Handed Batters to explore potential discrepancies based on handedness, and Balls vs. Strikes to evaluate consistency within the strike zone.\n",
    "\n",
    "Both models were trained separately, with the Scikit-Learn model serving as a baseline comparison and the custom Newton-based model leveraging second-order optimization for potentially faster and more efficient parameter updates. Model evaluation was conducted using key metrics such as Accuracy, False Positive Rate (FPR), and False Negative Rate (FNR). Additionally, confusion matrices were generated for visual inspection of model performance across subgroups, and the predictions were benchmarked against actual umpire accuracy to identify significant deviations or biases in decision-making."
=======
    "We got a large dataset of pitches from [Kaggle](https://www.kaggle.com/datasets/amandaaapoor/2021regularseasonmlbpitches), which was collected by user Amandaa Poor using the MLB API. This dataset includes pretty much all of the information that it is possible to collect about each pitch from the 2021 regular season. There are 96 attributes about each pitch, ranging from game information, the players involved, and measurements about the pitch like its velocity, release position, and position over the plate. We also scraped a dataset using the MLB API that included  information about each player that was active in the 2021 regular season:"
   ]
  },
  {
   "cell_type": "code",
   "execution_count": null,
   "metadata": {},
   "outputs": [],
   "source": [
    "#| code-fold: true\n",
    "#| code-summary: \"Code to pull data from the MLB API\"\n",
    "\n",
    "import statsapi\n",
    "import pandas as pd\n",
    "\n",
    "def get_team_ids():\n",
    "    teams = statsapi.get('teams', {'sportId': 1})['teams']\n",
    "    return [team['id'] for team in teams]\n",
    "\n",
    "def get_players_from_team(team_id, season='2021'):\n",
    "    roster = statsapi.get('team_roster', {'teamId': team_id, 'season': season})\n",
    "    return roster['roster']\n",
    "\n",
    "def get_player_info_flat(player_id):\n",
    "    person = statsapi.get('person', {'personId': player_id})\n",
    "    info = person['people'][0]\n",
    "\n",
    "    return {\n",
    "        'id': info.get('id'),\n",
    "        'fullName': info.get('fullName'),\n",
    "        'birthDate': info.get('birthDate'),\n",
    "        'birthCountry': info.get('birthCountry'),\n",
    "        'height': info.get('height'),\n",
    "        'weight': info.get('weight'),\n",
    "        'primaryPosition': info.get('primaryPosition', {}).get('abbreviation'),\n",
    "        'batSide': info.get('batSide', {}).get('code'),\n",
    "        'pitchHand': info.get('pitchHand', {}).get('code'),\n",
    "        'debutDate': info.get('mlbDebutDate'),\n",
    "        'active': info.get('active'),\n",
    "    }\n",
    "\n",
    "def get_all_players_df(season='2021'):\n",
    "    team_ids = get_team_ids()\n",
    "    player_data = []\n",
    "\n",
    "    for team_id in team_ids:\n",
    "        players = get_players_from_team(team_id, season)\n",
    "        for player in players:\n",
    "            player_id = player['person']['id']\n",
    "            info = get_player_info_flat(player_id)\n",
    "            player_data.append(info)\n",
    "\n",
    "    df = pd.DataFrame(player_data)\n",
    "    return df\n",
    "\n",
    "df_players = get_all_players_df()\n",
    "print(df_players.head())"
   ]
  },
  {
   "cell_type": "markdown",
   "metadata": {},
   "source": [
    "We joined our two dataframes so that we would have information for each pitch about the demographics of the batter that received each pitch in the pitches dataframe.  "
   ]
  },
  {
   "cell_type": "code",
   "execution_count": null,
   "metadata": {},
   "outputs": [],
   "source": [
    "players = pd.read_csv(\"mlb_players_2021.csv\") # Our dataset\n",
    "pitches = pd.read_csv(\"regseason.csv\") # Dataset from Kaggle\n",
    "players.rename(columns={\"id\" : \"batter\",\"fullName\" : \"batter_fullName\" , \"birthCountry\" : \"batter_birthCountry\"}, inplace=True)\n",
    "full_df = pd.merge(pitches, players[[\"batter\",\"batter_fullName\",\"batSide\", \"batter_birthCountry\"]], on=\"batter\")"
   ]
  },
  {
   "cell_type": "markdown",
   "metadata": {},
   "source": [
    "We added some features to the dataset and did some cleaning to make it easier for us to work with. "
   ]
  },
  {
   "cell_type": "code",
   "execution_count": null,
   "metadata": {},
   "outputs": [],
   "source": [
    "# Remove the pitches that were fouled, in play, or swung at\n",
    "not_hit = [\"called_strike\", \"ball\"]\n",
    "pitches_not_hit = full_df[full_df['description'].isin(not_hit)].copy()\n",
    "\n",
    "# Create features needed for our analysis\n",
    "pitches_not_hit[\"strike_zone\"] = pitches_not_hit[\"zone\"] <= 9 # Determine if the pitch was actually in the zone\n",
    "\n",
    "pitches_not_hit[\"called_correctly\"] = (\n",
    "    ((pitches_not_hit[\"zone\"] <= 9) & (pitches_not_hit[\"type\"] == \"S\")) | # Pitch is in the zone and is called a strike  \n",
    "    ((pitches_not_hit[\"zone\"] > 9) & (pitches_not_hit[\"type\"] == \"B\"))    # Pitch is not in the zone and is called a ball\n",
    ") \n",
    "pitches_not_hit[\"called_correctly\"] = pitches_not_hit[\"called_correctly\"].astype(int) # This will be are target variable -- whether the pitch was called \"correctly\""
   ]
  },
  {
   "cell_type": "markdown",
   "metadata": {},
   "source": [
    "One of the limitations of our dataset was that there was a large class imbalance, there were significantly more pitches called correctly than called incorrectly, which isn't necessarily a bad thing. It's good to see that most of the pitches in the MLB are being called correctly, but this might be challenging for our analysis. "
   ]
  },
  {
   "cell_type": "code",
   "execution_count": null,
   "metadata": {},
   "outputs": [],
   "source": [
    "#| echo: false\n",
    "\n",
    "print(\"Number of pitches called correctly:\", len(pitches_not_hit[pitches_not_hit[\"called_correctly\"] == 1]))"
   ]
  },
  {
   "cell_type": "code",
   "execution_count": null,
   "metadata": {},
   "outputs": [],
   "source": [
    "#| echo: false\n",
    "\n",
    "print(\"Number of pitches called incorrectly:\",len(pitches_not_hit[pitches_not_hit[\"called_correctly\"] == 0]))"
   ]
  },
  {
   "cell_type": "markdown",
   "metadata": {},
   "source": [
    "#### Our Approach"
>>>>>>> Stashed changes
   ]
  },
  {
   "cell_type": "markdown",
   "metadata": {},
   "source": [
<<<<<<< Updated upstream
    "### Results\n",
    "The Scikit-Learn model showed a higher overall accuracy compared to the Custom Newton model. However, the Custom Newton model exhibited more stable convergence during training and demonstrated competitive performance in edge cases near the strike zone. The Scikit-Learn model struggled with overfitting to specific pitch types, particularly balls however the Newton struggled to converge on the data. Perhaps with more computing to run many more iterations of our Newton descent it could have converged; the Newton did however demonstrated much better generalizability to both balls and strikes as well as left vs right handed batters. Confusion matrices were generated for left-handed and right-handed batters, revealing that both models performed better for right-handed batters, with fewer false positives and a clearer decision boundary compared to left batters.\n",
    "\n",
    "The Scikit-Learn model demonstrated a slightly higher overall accuracy compared to the Custom Newton model. Specifically, the Scikit-Learn model maintained stronger stability across a broader range of pitch types and batter handedness. Its higher FPR and FNR scores were indicative of conservative decision-making, particularly in distinguishing borderline calls. Conversely, the Custom Newton model exhibited more stable convergence during training and demonstrated competitive performance in edge cases near the strike zone, where decision boundaries are more ambiguous. This suggests that Newton-based optimization may allow for finer adjustments in gradient descent, leading to better handling of difficult calls.\n",
    "\n",
    "Confusion matrices were generated for left-handed and right-handed batters, revealing distinct performance differences. Both models showed improved accuracy for right-handed batters, with fewer false positives and a clearer decision boundary. This might suggest that the models are better calibrated for typical right-handed batting patterns or that there is an inherent bias in pitch tracking systems favoring right-handed batters. In contrast, left-handed batters saw slightly higher error rates, particularly in borderline pitch locations. This highlights the need for model adjustments to handle the variability introduced by left-handed batting stances.\n",
    "\n",
    "Further analysis focused on balls and strikes separately, indicating that the models were generally more consistent for identifying balls correctly but faced challenges with borderline strike calls. For balls, the Scikit-Learn model had a lower False Positive Rate (FPR) compared to the Custom Newton model, reflecting more conservative predictions in non-strike situations. However, this also meant the Scikit-Learn model was more likely to miss strikes that were marginally on the edge. On the other hand, for strikes, the Custom Newton model exhibited slightly higher sensitivity, capturing more borderline calls as correct, though sometimes at the expense of increased FPR. This suggests that the Newton model is more aggressive in edge-zone classification, potentially catching calls that the Scikit-Learn model would miss."
=======
    "- What ‍‍‍‍‍‍‍‍‍‍‍‍‍‍‍‍‍‍‍‍features ‍‍‍‍‍‍‍‍‍‍‍‍‍‍‍‍‍‍‍‍of ‍‍‍‍‍‍‍‍‍‍‍‍‍‍‍‍‍‍‍‍your ‍‍‍‍‍‍‍‍‍‍‍‍‍‍‍‍‍‍‍‍data ‍‍‍‍‍‍‍‍‍‍‍‍‍‍‍‍‍‍‍‍you ‍‍‍‍‍‍‍‍‍‍‍‍‍‍‍‍‍‍‍‍used ‍‍‍‍‍‍‍‍‍‍‍‍‍‍‍‍‍‍‍‍as ‍‍‍‍‍‍‍‍‍‍‍‍‍‍‍‍‍‍‍‍predictors ‍‍‍‍‍‍‍‍‍‍‍‍‍‍‍‍‍‍‍‍for ‍‍‍‍‍‍‍‍‍‍‍‍‍‍‍‍‍‍‍‍your ‍‍‍‍‍‍‍‍‍‍‍‍‍‍‍‍‍‍‍‍models, ‍‍‍‍‍‍‍‍‍‍‍‍‍‍‍‍‍‍‍‍and ‍‍‍‍‍‍‍‍‍‍‍‍‍‍‍‍‍‍‍‍what ‍‍‍‍‍‍‍‍‍‍‍‍‍‍‍‍‍‍‍‍features ‍‍‍‍‍‍‍‍‍‍‍‍‍‍‍‍‍‍‍‍(if ‍‍‍‍‍‍‍‍‍‍‍‍‍‍‍‍‍‍‍‍any) ‍‍‍‍‍‍‍‍‍‍‍‍‍‍‍‍‍‍‍‍you ‍‍‍‍‍‍‍‍‍‍‍‍‍‍‍‍‍‍‍‍used ‍‍‍‍‍‍‍‍‍‍‍‍‍‍‍‍‍‍‍‍as ‍‍‍‍‍‍‍‍‍‍‍‍‍‍‍‍‍‍‍‍targets.\n",
    "- Whether ‍‍‍‍‍‍‍‍‍‍‍‍‍‍‍‍‍‍‍‍you ‍‍‍‍‍‍‍‍‍‍‍‍‍‍‍‍‍‍‍‍subset ‍‍‍‍‍‍‍‍‍‍‍‍‍‍‍‍‍‍‍‍your ‍‍‍‍‍‍‍‍‍‍‍‍‍‍‍‍‍‍‍‍data ‍‍‍‍‍‍‍‍‍‍‍‍‍‍‍‍‍‍‍‍in ‍‍‍‍‍‍‍‍‍‍‍‍‍‍‍‍‍‍‍‍any ‍‍‍‍‍‍‍‍‍‍‍‍‍‍‍‍‍‍‍‍way, ‍‍‍‍‍‍‍‍‍‍‍‍‍‍‍‍‍‍‍‍and ‍‍‍‍‍‍‍‍‍‍‍‍‍‍‍‍‍‍‍‍for ‍‍‍‍‍‍‍‍‍‍‍‍‍‍‍‍‍‍‍‍what ‍‍‍‍‍‍‍‍‍‍‍‍‍‍‍‍‍‍‍‍reasons.\n",
    "- What ‍‍‍‍‍‍‍‍‍‍‍‍‍‍‍‍‍‍‍‍model(s) ‍‍‍‍‍‍‍‍‍‍‍‍‍‍‍‍‍‍‍‍you ‍‍‍‍‍‍‍‍‍‍‍‍‍‍‍‍‍‍‍‍used ‍‍‍‍‍‍‍‍‍‍‍‍‍‍‍‍‍‍‍‍trained ‍‍‍‍‍‍‍‍‍‍‍‍‍‍‍‍‍‍‍‍on ‍‍‍‍‍‍‍‍‍‍‍‍‍‍‍‍‍‍‍‍your ‍‍‍‍‍‍‍‍‍‍‍‍‍‍‍‍‍‍‍‍data, ‍‍‍‍‍‍‍‍‍‍‍‍‍‍‍‍‍‍‍‍and ‍‍‍‍‍‍‍‍‍‍‍‍‍‍‍‍‍‍‍‍how ‍‍‍‍‍‍‍‍‍‍‍‍‍‍‍‍‍‍‍‍you ‍‍‍‍‍‍‍‍‍‍‍‍‍‍‍‍‍‍‍‍chose ‍‍‍‍‍‍‍‍‍‍‍‍‍‍‍‍‍‍‍‍them.\n",
    "- How ‍‍‍‍‍‍‍‍‍‍‍‍‍‍‍‍‍‍‍‍you ‍‍‍‍‍‍‍‍‍‍‍‍‍‍‍‍‍‍‍‍trained ‍‍‍‍‍‍‍‍‍‍‍‍‍‍‍‍‍‍‍‍your ‍‍‍‍‍‍‍‍‍‍‍‍‍‍‍‍‍‍‍‍models, ‍‍‍‍‍‍‍‍‍‍‍‍‍‍‍‍‍‍‍‍and ‍‍‍‍‍‍‍‍‍‍‍‍‍‍‍‍‍‍‍‍on ‍‍‍‍‍‍‍‍‍‍‍‍‍‍‍‍‍‍‍‍what ‍‍‍‍‍‍‍‍‍‍‍‍‍‍‍‍‍‍‍‍hardware.\n",
    "- How ‍‍‍‍‍‍‍‍‍‍‍‍‍‍‍‍‍‍‍‍you ‍‍‍‍‍‍‍‍‍‍‍‍‍‍‍‍‍‍‍‍evaluated ‍‍‍‍‍‍‍‍‍‍‍‍‍‍‍‍‍‍‍‍your ‍‍‍‍‍‍‍‍‍‍‍‍‍‍‍‍‍‍‍‍models ‍‍‍‍‍‍‍‍‍‍‍‍‍‍‍‍‍‍‍‍(loss, ‍‍‍‍‍‍‍‍‍‍‍‍‍‍‍‍‍‍‍‍accuracy, ‍‍‍‍‍‍‍‍‍‍‍‍‍‍‍‍‍‍‍‍etc), ‍‍‍‍‍‍‍‍‍‍‍‍‍‍‍‍‍‍‍‍and ‍‍‍‍‍‍‍‍‍‍‍‍‍‍‍‍‍‍‍‍the ‍‍‍‍‍‍‍‍‍‍‍‍‍‍‍‍‍‍‍‍size ‍‍‍‍‍‍‍‍‍‍‍‍‍‍‍‍‍‍‍‍of ‍‍‍‍‍‍‍‍‍‍‍‍‍‍‍‍‍‍‍‍your ‍‍‍‍‍‍‍‍‍‍‍‍‍‍‍‍‍‍‍‍test ‍‍‍‍‍‍‍‍‍‍‍‍‍‍‍‍‍‍‍‍set.\n",
    "- If ‍‍‍‍‍‍‍‍‍‍‍‍‍‍‍‍‍‍‍‍you ‍‍‍‍‍‍‍‍‍‍‍‍‍‍‍‍‍‍‍‍performed ‍‍‍‍‍‍‍‍‍‍‍‍‍‍‍‍‍‍‍‍an ‍‍‍‍‍‍‍‍‍‍‍‍‍‍‍‍‍‍‍‍audit ‍‍‍‍‍‍‍‍‍‍‍‍‍‍‍‍‍‍‍‍for ‍‍‍‍‍‍‍‍‍‍‍‍‍‍‍‍‍‍‍‍bias, ‍‍‍‍‍‍‍‍‍‍‍‍‍‍‍‍‍‍‍‍how ‍‍‍‍‍‍‍‍‍‍‍‍‍‍‍‍‍‍‍‍you ‍‍‍‍‍‍‍‍‍‍‍‍‍‍‍‍‍‍‍‍approached ‍‍‍‍‍‍‍‍‍‍‍‍‍‍‍‍‍‍‍‍this ‍‍‍‍‍‍‍‍‍‍‍‍‍‍‍‍‍‍‍‍and ‍‍‍‍‍‍‍‍‍‍‍‍‍‍‍‍‍‍‍‍what ‍‍‍‍‍‍‍‍‍‍‍‍‍‍‍‍‍‍‍‍metrics ‍‍‍‍‍‍‍‍‍‍‍‍‍‍‍‍‍‍‍‍you ‍‍‍‍‍‍‍‍‍‍‍‍‍‍‍‍‍‍‍‍used.\n"
   ]
  },
  {
   "cell_type": "markdown",
   "metadata": {},
   "source": [
    "### Results"
>>>>>>> Stashed changes
   ]
  },
  {
   "cell_type": "markdown",
   "metadata": {},
   "source": [
    "### Concluding Discussion"
   ]
  },
  {
   "cell_type": "markdown",
   "metadata": {},
   "source": [
    "### Group Contributions Statement"
   ]
  },
  {
   "cell_type": "markdown",
   "metadata": {},
   "source": [
    "### Personal Reflection"
   ]
  }
 ],
 "metadata": {
  "language_info": {
   "name": "python"
  },
  "orig_nbformat": 4
 },
 "nbformat": 4,
 "nbformat_minor": 2
}
